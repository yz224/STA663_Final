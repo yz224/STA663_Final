{
 "metadata": {
  "name": "",
  "signature": "sha256:409f18efecfcf6564b9a8a085778e7db9fe0e91090f5ff0fb8082b28bf13cc7c"
 },
 "nbformat": 3,
 "nbformat_minor": 0,
 "worksheets": [
  {
   "cells": [
    {
     "cell_type": "code",
     "collapsed": false,
     "input": [
      "import os\n",
      "import sys\n",
      "import glob\n",
      "import matplotlib.pyplot as plt\n",
      "import numpy as np\n",
      "import pandas as pd\n",
      "%matplotlib inline\n",
      "%precision 30\n",
      "plt.style.use('ggplot')"
     ],
     "language": "python",
     "metadata": {},
     "outputs": [],
     "prompt_number": 136
    },
    {
     "cell_type": "code",
     "collapsed": false,
     "input": [
      "import random\n",
      "import itertools\n",
      "import math\n",
      "import scipy.stats as sps\n",
      "import numpy.linalg as npl\n"
     ],
     "language": "python",
     "metadata": {},
     "outputs": [],
     "prompt_number": 16
    },
    {
     "cell_type": "markdown",
     "metadata": {},
     "source": [
      "#Outline Of Bayesian Hierachical Clustering\n",
      "Basic idea: initial each data point in its own clustering and iteratively merge pairs of clusters. Main difference from agglomerative algorithm is using hypothesis testing to make the merging decision"
     ]
    },
    {
     "cell_type": "markdown",
     "metadata": {},
     "source": [
      "#Psedocode:\n",
      "\n",
      "###step1. \n",
      "input data $D=(x^1,x^2,...,x^n)$, define model  $p(x|\\theta)$, prior  $p(\\theta|\\beta)$\n",
      "\n",
      "###step2.\n",
      "initialize number of clusters c = n  \n",
      "each cluster$D_i = (x^i)$ for $i=1,2,..n$\n",
      "\n",
      "###step3.\n",
      "While c>1  \n",
      "find pair $D_i, D_j$with highest probability of merge:  \n",
      "  \n",
      "$r_k = \\dfrac{\\pi_k p(D_k|H_1^k)}{p(D_k|T_k)}$\n",
      "  \n",
      "Then Merge $D_i, D_j -> D_k$  \n",
      "$c <- c-1$\n",
      "\n",
      "end\n"
     ]
    },
    {
     "cell_type": "code",
     "collapsed": false,
     "input": [
      "xs = np.random.normal(1,2,10)\n",
      "xs = np.append(xs,np.random.normal(7,1,10))\n",
      "xs = np.append(xs,np.random.normal(20,2,10))\n",
      "ys = np.random.normal(10,2,10)\n",
      "ys = np.append(ys,np.random.normal(2,2,10))\n",
      "ys = np.append(ys,np.random.normal(8,1,10))\n",
      "\n",
      "df = pd.DataFrame(xs,columns=['x'])\n",
      "df['y'] = pd.Series(ys)\n",
      "df=np.array(df)\n",
      "df = df[1:10,]"
     ],
     "language": "python",
     "metadata": {},
     "outputs": [],
     "prompt_number": 138
    },
    {
     "cell_type": "code",
     "collapsed": false,
     "input": [
      "plt.scatter(x=xs,y=ys)"
     ],
     "language": "python",
     "metadata": {},
     "outputs": [
      {
       "metadata": {},
       "output_type": "pyout",
       "prompt_number": 133,
       "text": [
        "<matplotlib.collections.PathCollection at 0x7f2b048dab90>"
       ]
      },
      {
       "metadata": {},
       "output_type": "display_data",
       "png": "[encoded data removed]",
       "text": [
        "<matplotlib.figure.Figure at 0x7f2b049a6a10>"
       ]
      }
     ],
     "prompt_number": 133
    },
    {
     "cell_type": "code",
     "collapsed": false,
     "input": [
      "np.std(df,axis=0)"
     ],
     "language": "python",
     "metadata": {},
     "outputs": [
      {
       "metadata": {},
       "output_type": "pyout",
       "prompt_number": 47,
       "text": [
        "array([ 7.6419,  4.5973])"
       ]
      }
     ],
     "prompt_number": 47
    },
    {
     "cell_type": "code",
     "collapsed": false,
     "input": [
      "#initial numbers\n",
      "alpha = 0.8\n",
      "\n",
      "# Assume points are drawn from normal distribution, We use uninformative prior\n",
      "# So prior for mu is N(mu0,sigma0/k0), for sigma^2 is Chisquare(sigma0,v0)\n",
      "mu0=np.matrix([0.0,0.0])\n",
      "sigma0=np.matrix([[1.0,0.0],[.0,1.0]])\n",
      "k0=1\n",
      "v0=1\n",
      "\n",
      "# We need to save all information of T_k for each node k\n",
      "m_v = 2 # We assume in each partition v there are two clusters\n",
      "\n",
      "theta\n",
      "pi\n",
      "dk\n",
      "rk\n",
      "V\n",
      "v\n",
      "nk"
     ],
     "language": "python",
     "metadata": {},
     "outputs": [
      {
       "ename": "NameError",
       "evalue": "name 'theta' is not defined",
       "output_type": "pyerr",
       "traceback": [
        "\u001b[1;31m---------------------------------------------------------------------------\u001b[0m\n\u001b[1;31mNameError\u001b[0m                                 Traceback (most recent call last)",
        "\u001b[1;32m<ipython-input-72-504844b9511c>\u001b[0m in \u001b[0;36m<module>\u001b[1;34m()\u001b[0m\n\u001b[0;32m     12\u001b[0m \u001b[0mm_v\u001b[0m \u001b[1;33m=\u001b[0m \u001b[1;36m2\u001b[0m \u001b[1;31m# We assume in each partition v there are two clusters\u001b[0m\u001b[1;33m\u001b[0m\u001b[0m\n\u001b[0;32m     13\u001b[0m \u001b[1;33m\u001b[0m\u001b[0m\n\u001b[1;32m---> 14\u001b[1;33m \u001b[0mtheta\u001b[0m\u001b[1;33m\u001b[0m\u001b[0m\n\u001b[0m\u001b[0;32m     15\u001b[0m \u001b[0mpi\u001b[0m\u001b[1;33m\u001b[0m\u001b[0m\n\u001b[0;32m     16\u001b[0m \u001b[0mdk\u001b[0m\u001b[1;33m\u001b[0m\u001b[0m\n",
        "\u001b[1;31mNameError\u001b[0m: name 'theta' is not defined"
       ]
      }
     ],
     "prompt_number": 72
    },
    {
     "cell_type": "code",
     "collapsed": false,
     "input": [],
     "language": "python",
     "metadata": {},
     "outputs": [
      {
       "metadata": {},
       "output_type": "pyout",
       "prompt_number": 57,
       "text": [
        "matrix([[ 249.2692]])"
       ]
      }
     ],
     "prompt_number": 57
    },
    {
     "cell_type": "code",
     "collapsed": false,
     "input": [
      "np.transpose(np.mean(df,axis=0)-mu0)"
     ],
     "language": "python",
     "metadata": {},
     "outputs": [
      {
       "metadata": {},
       "output_type": "pyout",
       "prompt_number": 55,
       "text": [
        "matrix([[ 8.6694],\n",
        "        [ 7.034 ]])"
       ]
      }
     ],
     "prompt_number": 55
    },
    {
     "cell_type": "code",
     "collapsed": false,
     "input": [
      "# Basic functions\n",
      "def norm(x,mu=0,sigma=1):\n",
      "    return 1/(np.sqrt(2*math.pi)*np.sqrt(sigma))*math.exp(-(x-mu)**2/(2*sigma))\n",
      "\n",
      "def k_n(n,k0=1.0):\n",
      "    return k0+n\n",
      "\n",
      "def v_n(n,v0=1.0):\n",
      "    return v0+n\n",
      "\n",
      "def sigma_n(x,n,vn,kn,sigma0,mu0=0,v0=1,k0=1):\n",
      "    return 1.0/vn*(v0*sigma0+n*np.std(x)+(n*k0/(n+kn))*(mu0-np.mean(x))**2)\n",
      "\n",
      "def S(x,n):\n",
      "    return np.std(x,axis=0)*n\n",
      "\n",
      "def sigma_n(x,n,vn,kn,sigma0,mu0=0,v0=1,k0=1):\n",
      "    return sigma0 + S(x,n) + (k0*n/(k0+n))*(np.dot(np.mean(x,axis=0)-mu0,np.transpose(np.mean(x,axis=0)-mu0)))\n",
      "\n",
      "def P_DH(x,n,vn,kn,sigman,sigma0=np.matrix([[1.0,0.0],[0.0,1.0]]),mu0=np.matrix([0.0,0.0]),v0=1.0,k0=1.0,d=2.0):\n",
      "    return (math.gamma(vn/2.0)/math.gamma(v0/2.0))*(npl.norm(sigma0)**(v0/2.0)/npl.norm(sigman)**(vn/2.0))*(k0/kn)**(d/2.0)*1/(math.pi)**(n*d/2.0)\n",
      "#Advanced functions\n",
      "\n"
     ],
     "language": "python",
     "metadata": {},
     "outputs": [],
     "prompt_number": 134
    },
    {
     "cell_type": "code",
     "collapsed": false,
     "input": [
      "sigman=sigma_n(df,11,11,11,sigma0)\n",
      "print sigman\n",
      "P_DH(df,11.0,11.0,11.0,sigman)"
     ],
     "language": "python",
     "metadata": {},
     "outputs": [
      {
       "output_type": "stream",
       "stream": "stdout",
       "text": [
        "[[ 13.121353080837327098606692743488  18.600081555605953553822473622859]\n",
        " [ 12.121353080837327098606692743488  19.600081555605953553822473622859]]\n"
       ]
      },
      {
       "metadata": {},
       "output_type": "pyout",
       "prompt_number": 140,
       "text": [
        "0.000000000000053470125509662982"
       ]
      }
     ],
     "prompt_number": 140
    },
    {
     "cell_type": "code",
     "collapsed": false,
     "input": [
      "np.std([1,1,2])"
     ],
     "language": "python",
     "metadata": {},
     "outputs": [
      {
       "metadata": {},
       "output_type": "pyout",
       "prompt_number": 26,
       "text": [
        "0.4714"
       ]
      }
     ],
     "prompt_number": 26
    },
    {
     "cell_type": "code",
     "collapsed": false,
     "input": [
      "# First round\n",
      "\n",
      "d = alpha\n",
      "pi = 1\n",
      "n = 2\n",
      "\n",
      "kn = k_n(n)\n",
      "vn = v_n(n)\n",
      "sigman = simga_n()\n",
      "\n",
      "\n",
      "# Marginal likelihood of D\n",
      "\n",
      "P_DH = "
     ],
     "language": "python",
     "metadata": {},
     "outputs": []
    },
    {
     "cell_type": "code",
     "collapsed": false,
     "input": [
      "sps.norm.pdf(1.96,0,1)"
     ],
     "language": "python",
     "metadata": {},
     "outputs": [
      {
       "metadata": {},
       "output_type": "pyout",
       "prompt_number": 78,
       "text": [
        "0.0584"
       ]
      }
     ],
     "prompt_number": 78
    },
    {
     "cell_type": "code",
     "collapsed": false,
     "input": [
      "norm(1.96,0,1)"
     ],
     "language": "python",
     "metadata": {},
     "outputs": [
      {
       "metadata": {},
       "output_type": "pyout",
       "prompt_number": 71,
       "text": [
        "0.0584"
       ]
      }
     ],
     "prompt_number": 71
    },
    {
     "cell_type": "code",
     "collapsed": false,
     "input": [
      "?np.repeat"
     ],
     "language": "python",
     "metadata": {},
     "outputs": [],
     "prompt_number": 57
    },
    {
     "cell_type": "code",
     "collapsed": false,
     "input": [
      "mean(1,1)"
     ],
     "language": "python",
     "metadata": {},
     "outputs": [
      {
       "ename": "NameError",
       "evalue": "name 'mean' is not defined",
       "output_type": "pyerr",
       "traceback": [
        "\u001b[1;31m---------------------------------------------------------------------------\u001b[0m\n\u001b[1;31mNameError\u001b[0m                                 Traceback (most recent call last)",
        "\u001b[1;32m<ipython-input-11-f28621be7c5e>\u001b[0m in \u001b[0;36m<module>\u001b[1;34m()\u001b[0m\n\u001b[1;32m----> 1\u001b[1;33m \u001b[0mmean\u001b[0m\u001b[1;33m(\u001b[0m\u001b[1;36m1\u001b[0m\u001b[1;33m,\u001b[0m\u001b[1;36m1\u001b[0m\u001b[1;33m)\u001b[0m\u001b[1;33m\u001b[0m\u001b[0m\n\u001b[0m",
        "\u001b[1;31mNameError\u001b[0m: name 'mean' is not defined"
       ]
      }
     ],
     "prompt_number": 11
    },
    {
     "cell_type": "code",
     "collapsed": false,
     "input": [
      "!iptest  [args]"
     ],
     "language": "python",
     "metadata": {},
     "outputs": [
      {
       "output_type": "stream",
       "stream": "stdout",
       "text": [
        "\r\n",
        "Test group: [args] ------------------------------------------- NOT RUN\r\n",
        "______________________________________________________________________\r\n",
        "Test suite completed for system with the following information:\r\n",
        "IPython version: 2.2.0\r\n",
        "IPython commit : d87a8cd (installation)\r\n",
        "IPython package: ~/anaconda/lib/python2.7/site-packages/IPython\r\n",
        "Python version : 2.7.9 |Anaconda 2.1.0 (64-bit)| (default, Dec 15 2014, 10:33:51) [GCC 4.4.7 20120313 (Red Hat 4.4.7-1)]\r\n",
        "sys.executable : ~/anaconda/bin/python\r\n",
        "Platform       : Linux-3.13.0-24-generic-x86_64-with-debian-jessie-sid\r\n",
        "\r\n",
        "Tools and libraries available at test time:\r\n",
        "   curses cython jinja2 matplotlib numpy oct2py pexpect pygments qt requests rpy2 sphinx sqlite3 tornado zmq\r\n",
        "\r\n",
        "Tools and libraries NOT available at test time:\r\n",
        "   casperjs pymongo\r\n",
        "\r\n",
        "Status: OK (0 test groups). Took 0.000s.\r\n"
       ]
      }
     ],
     "prompt_number": 48
    },
    {
     "cell_type": "code",
     "collapsed": false,
     "input": [],
     "language": "python",
     "metadata": {},
     "outputs": []
    }
   ],
   "metadata": {}
  }
 ]
}