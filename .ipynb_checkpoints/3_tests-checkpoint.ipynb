{
 "metadata": {
  "name": "",
  "signature": "sha256:c3acb72c878cf74a5e55158231eba382450256c506ed0e7b2631a3c7d970dc07"
 },
 "nbformat": 3,
 "nbformat_minor": 0,
 "worksheets": [
  {
   "cells": [
    {
     "cell_type": "code",
     "collapsed": false,
     "input": [
      "ls"
     ],
     "language": "python",
     "metadata": {},
     "outputs": [
      {
       "output_type": "stream",
       "stream": "stdout",
       "text": [
        "Choice_and_Outline.ipynb               README.md\r\n",
        "Command.ipynb                          The_paper.ipynb\r\n",
        "p297-heller.pdf                        Unit_tests.ipynb\r\n",
        "Pseudocode_outline_of_algorithm.ipynb\r\n"
       ]
      }
     ],
     "prompt_number": 4
    },
    {
     "cell_type": "code",
     "collapsed": false,
     "input": [
      "%%file test_clustering.py\n",
      "\n",
      "import numpy as np\n",
      "from numpy.testing import assert_almost_equal\n",
      "from clustering_code import bayesian_clustering\n",
      "\n",
      "def test_num_hierachy():\n",
      "    test_data = np.array([1,2,3,4,5,5,6])\n",
      "    assert bayesian_clustering(test_data)[0] == 2\n",
      "\n",
      "def test_num_clusters():\n",
      "    test_data = np.array([1,2,3,4,5,5,6])\n",
      "    assert bayesian_clustering(test_data)[1] == 3\n",
      "\n",
      "def test_clustering_dist():\n",
      "    test_data = np.array([1,2,3,4,5,5,6])\n",
      "    assert np.norm(bayesian_clustering(test_data)[3]) >= 5"
     ],
     "language": "python",
     "metadata": {},
     "outputs": [
      {
       "output_type": "stream",
       "stream": "stdout",
       "text": [
        "Writing test_clustering.py\n"
       ]
      }
     ],
     "prompt_number": 2
    },
    {
     "cell_type": "code",
     "collapsed": false,
     "input": [
      "! py.test"
     ],
     "language": "python",
     "metadata": {},
     "outputs": [
      {
       "output_type": "stream",
       "stream": "stdout",
       "text": [
        "\u001b[1m============================= test session starts ==============================\u001b[0m\r\n",
        "platform linux2 -- Python 2.7.9 -- py-1.4.25 -- pytest-2.6.3\r\n",
        "\u001b[1m\r",
        "collecting 0 items\u001b[0m"
       ]
      },
      {
       "output_type": "stream",
       "stream": "stdout",
       "text": [
        "\u001b[1m\r",
        "collecting 0 items / 1 errors\u001b[0m\u001b[1m\r",
        "collected 0 items / 1 errors \r\n",
        "\u001b[0m\r\n",
        "==================================== ERRORS ====================================\r\n",
        "_____________________ ERROR collecting test_clustering.py ______________________\r\n",
        "test_clustering.py:4: in <module>\r\n",
        "\u001b[1m    from clustering_code import bayesian_clustering\u001b[0m\r\n",
        "\u001b[1m\u001b[31mE   ImportError: No module named clustering_code\u001b[0m\r\n",
        "\u001b[1m\u001b[31m=========================== 1 error in 0.10 seconds ============================\u001b[0m\r\n"
       ]
      }
     ],
     "prompt_number": 3
    },
    {
     "cell_type": "code",
     "collapsed": false,
     "input": [
      "%%file test_clustering.py\n",
      "# content of test_sample.py\n",
      "def func(x):\n",
      "    return x + 1\n",
      "\n",
      "def test_answer():\n",
      "    assert func(3) == 5"
     ],
     "language": "python",
     "metadata": {},
     "outputs": [
      {
       "output_type": "stream",
       "stream": "stdout",
       "text": [
        "Overwriting test_clustering.py\n"
       ]
      }
     ],
     "prompt_number": 4
    },
    {
     "cell_type": "code",
     "collapsed": false,
     "input": [
      "! py.test"
     ],
     "language": "python",
     "metadata": {},
     "outputs": [
      {
       "output_type": "stream",
       "stream": "stdout",
       "text": [
        "\u001b[1m============================= test session starts ==============================\u001b[0m\r\n",
        "platform linux2 -- Python 2.7.9 -- py-1.4.25 -- pytest-2.6.3\r\n",
        "\u001b[1m\r",
        "collecting 0 items\u001b[0m\u001b[1m\r",
        "collecting 1 items\u001b[0m\u001b[1m\r",
        "collected 1 items \r\n",
        "\u001b[0m\r\n",
        "test_clustering.py F\r\n",
        "\r\n",
        "=================================== FAILURES ===================================\r\n",
        "_________________________________ test_answer __________________________________\r\n",
        "\r\n",
        "\u001b[1m    def test_answer():\u001b[0m\r\n",
        "\u001b[1m>       assert func(3) == 5\u001b[0m\r\n",
        "\u001b[1m\u001b[31mE       assert 4 == 5\u001b[0m\r\n",
        "\u001b[1m\u001b[31mE        +  where 4 = func(3)\u001b[0m\r\n",
        "\r\n",
        "test_clustering.py:6: AssertionError\r\n",
        "\u001b[1m\u001b[31m=========================== 1 failed in 0.02 seconds ===========================\u001b[0m\r\n"
       ]
      }
     ],
     "prompt_number": 5
    },
    {
     "cell_type": "code",
     "collapsed": false,
     "input": [],
     "language": "python",
     "metadata": {},
     "outputs": []
    }
   ],
   "metadata": {}
  }
 ]
}