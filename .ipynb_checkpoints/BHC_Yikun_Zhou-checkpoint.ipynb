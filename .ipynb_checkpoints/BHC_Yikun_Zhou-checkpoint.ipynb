{
 "metadata": {
  "name": "",
  "signature": "sha256:34c0e7d66ef8a5b531fa3678687baf592612b8679173db3bd39461c62d11caac"
 },
 "nbformat": 3,
 "nbformat_minor": 0,
 "worksheets": [
  {
   "cells": [
    {
     "cell_type": "markdown",
     "metadata": {},
     "source": [
      "#Paper Choice: Bayesian Hierachical Clustering\n",
      "###Yikun Zhou (yz224)"
     ]
    },
    {
     "cell_type": "markdown",
     "metadata": {},
     "source": [
      "##1. background:  \n",
      "Hierarchical clustering is one of the most frequently used methods in unsupervised learning.But the traditional hierarchical clustering method provides no guide to choosing the \u201ccorrect\u201d number of clusters or the level at which to prune the tree. Also, The traditional algorithm does not define a probabilistic model of the data, so it is hard to ask how \u201cgood\u201d a clustering is. So, here we can use Bayesian Hierachical Clustering to overcome these limitations. \n",
      "\n",
      "###Problem that BHC can solve:\n",
      "\n",
      "a). bayesian model can give probability of test point belonging to any existing cluster  \n",
      "b). merging cluster based on model rather than ad-hoc matrics  \n",
      "c). use hypothesis test to give recommendation of merges  \n",
      "d). can be intepreted as approximation of dirichlet process  \n"
     ]
    },
    {
     "cell_type": "markdown",
     "metadata": {},
     "source": [
      "##2.Outline Of Bayesian Hierachical Clustering\n",
      "Basic idea: initial each data point in its own clustering and iteratively merge pairs of clusters. Main difference from agglomerative algorithm is using hypothesis testing to make the merging decision"
     ]
    },
    {
     "cell_type": "markdown",
     "metadata": {},
     "source": [
      "###Psedocode:\n",
      "\n",
      "####step1. \n",
      "input data $D=(x^1,x^2,...,x^n)$, define model  $p(x|\\theta)$, prior  $p(\\theta|\\beta)$\n",
      "\n",
      "####step2.\n",
      "initialize number of clusters c = n  \n",
      "each cluster$D_i = (x^i)$ for $i=1,2,..n$\n",
      "\n",
      "####step3.\n",
      "While c>1  \n",
      "find pair $D_i, D_j$with highest probability of merge:  \n",
      "  \n",
      "$r_k = \\dfrac{\\pi_k p(D_k|H_1^k)}{p(D_k|T_k)}$\n",
      "  \n",
      "Then Merge $D_i, D_j -> D_k$  \n",
      "$c <- c-1$\n",
      "\n",
      "end\n"
     ]
    },
    {
     "cell_type": "markdown",
     "metadata": {},
     "source": [
      "##3. Initial Naive Code"
     ]
    },
    {
     "cell_type": "code",
     "collapsed": false,
     "input": [
      "import os\n",
      "import sys\n",
      "import glob\n",
      "import matplotlib.pyplot as plt\n",
      "import numpy as np\n",
      "import pandas as pd\n",
      "%matplotlib inline\n",
      "%precision 30\n",
      "plt.style.use('ggplot')\n",
      "import random\n",
      "import itertools\n",
      "import math\n",
      "import scipy.stats as sps\n",
      "import numpy.linalg as npl\n",
      "import operator\n",
      "import pytest"
     ],
     "language": "python",
     "metadata": {},
     "outputs": [],
     "prompt_number": 1
    },
    {
     "cell_type": "markdown",
     "metadata": {},
     "source": [
      "####First, we need to set up some initial value for each points:  \n",
      "$$P(D_i)\\sim N(\\mu_0,\\sigma_0^2)$$"
     ]
    },
    {
     "cell_type": "code",
     "collapsed": false,
     "input": [
      "# Initial values\n",
      "mu0 = 0\n",
      "sigma0 = 1\n",
      "v0 = 1\n",
      "k0 = 1"
     ],
     "language": "python",
     "metadata": {},
     "outputs": [],
     "prompt_number": 2
    },
    {
     "cell_type": "markdown",
     "metadata": {},
     "source": [
      "####Second, we write the function needed to calculate\n",
      "$$r_k=\\dfrac{\\pi_k P(D_k|H_1^k)}{\\pi_k P(D_k|H_1^k)+(1-\\pi_k) P(D_i|T_i)P(D_j|T_j)}$$"
     ]
    },
    {
     "cell_type": "code",
     "collapsed": false,
     "input": [
      "# Function used to calculate values in P(D|H_1)\n",
      "def P_DH(x,n,k0=1.0,v0=1.0,sigma0=1.0,mu0=0.0):\n",
      "    return (math.gamma((v0+n)/2)/math.gamma(v0/2))*np.sqrt(k0/(k0+n))*(((v0*sigma0)**(v0/2))/(((v0+n)*((1/(v0+n))*(v0*sigma0**2+sum((x-mu0)**2))**((v0+n)/2)))))*(1/math.pi**(n/2))"
     ],
     "language": "python",
     "metadata": {},
     "outputs": [],
     "prompt_number": 3
    },
    {
     "cell_type": "markdown",
     "metadata": {},
     "source": [
      "#### Third, Define some data structure to store the data needed in each step, including:  \n",
      "\n",
      ">Round: Store all the data needed to calculate r_k in each iteration,  type: Dictionary  \n",
      "DF: Store all the data points in each nodes, type: Dictionary  \n",
      "N: Store the number of data points of each nodes, type: Dictionary  \n",
      "D: Store hyperparameter d_k for each nodes, type: Dictionary\n",
      "PI: Store weights for each nodes, type: Dictionary  \n",
      "R: Store merging probability r_k for each possible group of Nodes, type: Dictionary"
     ]
    },
    {
     "cell_type": "code",
     "collapsed": false,
     "input": [
      "# Initial Structure\n",
      "Rounds = {}\n",
      "Round = {}\n",
      "DF = {}\n",
      "N = {}\n",
      "D = {}\n",
      "R = {}\n",
      "x = np.array([1,1])\n",
      "\n",
      "# Basic Structure with data x\n",
      "for x in range(np.shape(x)[0]):\n",
      "    Round={'DF':DF, 'N':N, 'D':D, 'R':R}\n",
      "    Rounds['Round%s'%x] = Round"
     ],
     "language": "python",
     "metadata": {},
     "outputs": [],
     "prompt_number": 4
    },
    {
     "cell_type": "markdown",
     "metadata": {},
     "source": [
      "#### Finally, we use algorithm defined before to calculate the result of BHC\n",
      "input data $D=(x^1,x^2,...,x^n)$, define model  $p(x|\\theta)$, prior  $p(\\theta|\\beta)$\n",
      "\n",
      "initialize number of clusters c = n  \n",
      "each cluster$D_i = (x^i)$ for $i=1,2,..n$\n",
      "\n",
      "While c>1  \n",
      "find pair $D_i, D_j$with highest probability of merge:  \n",
      "  \n",
      "$r_k = \\dfrac{\\pi_k p(D_k|H_1^k)}{p(D_k|T_k)}$\n",
      "  \n",
      "Then Merge $D_i, D_j -> D_k$  \n",
      "$c <- c-1$"
     ]
    },
    {
     "cell_type": "code",
     "collapsed": false,
     "input": [
      "# Define Initial BHC functions\n",
      "\n",
      "def Ini_BHC(df):\n",
      "\talpha0 = 0.5\n",
      "\tpi0 = 1\n",
      "\trang = range(np.shape(df)[0])\n",
      "\tmerge = {}\n",
      "\n",
      "\t# Set up initial values according to the data input and calculate priors\n",
      "\tfor i in range(np.shape(df)[0]):\n",
      "\t\tRounds['Round%s'%1]['DF%s'%i] = df[i,]\n",
      "\t\tRounds['Round%s'%1]['N%s'%i] = len(Rounds['Round%s'%1]['DF%s'%i])\n",
      "\t\tRounds['Round%s'%1]['D%s'%i] = alpha\n",
      "\t\tRounds['Round%s'%1]['R%s'%i] = P_DH(Rounds['Round%s'%1]['DF%s'%i],Rounds['Round%s'%1]['N%s'%i])\n",
      "    \n",
      "    # loop through all the data and store the merge situation\n",
      "\tfor r in range(1,np.shape(df)[0]):\n",
      "\t\tfor i in rang:\n",
      "\t\t\tstart_from = rang[rang.index(i)+1]\n",
      "\t\t\trangb = []\n",
      "\t\t\tfor val in rang[rang.index(start_from) if start_from  in rang else 1:]:\n",
      "\t\t\t\trangb.append(val)\n",
      "\t\t\t\trangb\n",
      "\t\t\tfor j in rangb:\n",
      "\t\t\t\tRounds['Round%s,%s'%(i,j)]['DF%s,%s'%(i,j)] = np.array([df[i,],df[j,]])\n",
      "\t\t\t\tRounds['Round%s,%s'%(i,j)]['N%s,%s'%(i,j)] = len(Rounds['Round%s,%s'%(i,j)]['DF%s,%s'%(i,j)])\n",
      "\t\t\t\tRounds['Round%s,%s'%(i,j)]['D%s,%s'%(i,j)] = alpha\n",
      "\t\t\t\tRounds['Round%s,%s'%(i,j)]['R%s,%s'%(i,j)] = P_DH(Rounds['Round%s,%s'%(i,j)]['DF%s,%s'%(i,j)],Rounds['Round%s,%s'%(i,j)]['N%s,%s'%(i,j)])\n",
      "\n",
      "    # Calculate merge probability using the data given above\n",
      "\tfor round in range(1,np.shape(df)[0]):\n",
      "\t\tr = {}\n",
      "\t    \n",
      "\t\tfor i in rang:\n",
      "\t\t\tif rang[rang.index(i)] != rang[-1]:\n",
      "\t\t\t\tstart_from = rang[rang.index(i)+1]\n",
      "\t\t\t\trangb = []\n",
      "\t\t\t\tfor val in rang[rang.index(start_from) if start_from  in rang else 1:]:\n",
      "\t\t\t\t\trangb.append(val)\n",
      "\t\t\t\t\trangb\n",
      "\t\t\t\tfor j in rangb:\n",
      "\t\t\t\t\tr[\"r%s,%s\" %(i,j)]=[Cluster(levels['level%s'%(round-1)]['cluster%s'%i],levels['level%s'%(round-1)]['cluster%s'%j]).r,'cluster%s'%i,'cluster%s'%j,i,j]\n",
      "        \n",
      "        # Store merge result\n",
      "\t\tmerge = max(r.iteritems(), key=operator.itemgetter(1))[1][1:5]\n",
      "\t    \n",
      "\t\tlevels['level%s'%round] = levels['level%s'%(round-1)].copy()\n",
      "\t\tfor key in max(r.iteritems(), key=operator.itemgetter(1))[1][1:3]:\n",
      "\t\t        if key in levels['level%s'%round]: del levels['level%s'%round][key]\n",
      "\n",
      "\t\tlevels['level%s'%round]['cluster%s'%(round+30)] = Cluster(levels['level%s'%(round-1)][merge[0]],levels['level%s'%(round-1)][merge[1]])\n",
      "        \n",
      "        # Re calculate the loop range\n",
      "\t\trang.remove(merge[2]) \n",
      "\t\trang.remove(merge[3])\n",
      "\t\trang.append(round+30)\n",
      "\n",
      "\t\tmerges['round%s'%round] = [merge,'cluster%s'%(round+30)]\n",
      "    \n",
      "\treturn merges"
     ],
     "language": "python",
     "metadata": {},
     "outputs": [],
     "prompt_number": 5
    },
    {
     "cell_type": "markdown",
     "metadata": {},
     "source": [
      "#### Problem: The initial code above is OK and fast for 1 dimentional data. However, if I need to deal with data exceed 1 dimention, the speed will be very slow\n",
      "\n",
      "Possible Reasons:  \n",
      "* due to the function used to calculate $$r_k=\\dfrac{\\pi_k P(D_k|H_1^k)}{\\pi_k P(D_k|H_1^k)+(1-\\pi_k) P(D_i|T_i)P(D_j|T_j)}$$ is not vectorized.  \n",
      "* The data Structure needs to be optimized to simplify the calculatoin.   \n",
      "So next, I will profile and wirte a vectorized code which could better deal with high dimensional data."
     ]
    },
    {
     "cell_type": "markdown",
     "metadata": {},
     "source": [
      "##4. Vectorized Code: Optimize the code in both calculation speed and data structure\n"
     ]
    },
    {
     "cell_type": "markdown",
     "metadata": {},
     "source": [
      "####First, I designed a new function that can utilize vectorized data structure and calculate marginal likelihood faster\n",
      "The marginal likelihood is:\n",
      "$$P(D_k) = \\dfrac{1}{\\pi^{nd/2}} \\dfrac{\\Gamma_d(v_n/2)}{\\Gamma_d(v_0/2)}\\dfrac{\\Sigma_0^{v_0/2}}{\\Sigma_n^{v_n/2}}(\\dfrac{k_0}{k_n})^{d/2}$$  \n",
      "and we can use marginal likelihood to iteratively calculate the merging probability:\n",
      "$$r_k=\\dfrac{\\pi_k P(D_k|H_1^k)}{\\pi_k P(D_k|H_1^k)+(1-\\pi_k) P(D_i|T_i)P(D_j|T_j)}$$"
     ]
    },
    {
     "cell_type": "code",
     "collapsed": false,
     "input": [
      "# Initial value\n",
      "alpha = 0.5\n",
      "\n",
      "# Function used to calculate values in P(D|H_1)\n",
      "def k_n(n,k0=1.0):\n",
      "    return k0+n\n",
      "\n",
      "def v_n(n,v0=1.0):\n",
      "    return v0+n\n",
      "\n",
      "def S(x,n):\n",
      "    return np.std(x,axis=0)*n\n",
      "\n",
      "def sigma_n(x,n,mu0,sigma0=np.matrix([[1.0,0.0],[.0,1.0]]),v0=1.0,k0=1.0):\n",
      "    return sigma0 + S(x,n) + (k0*n/(k0+n))*(np.dot(np.mean(x,axis=0)-mu0,np.transpose(np.mean(x,axis=0)-mu0)))\n",
      "\n",
      "# Function used to calculate value of P(D|H_1)\n",
      "def P_DH(x,n,mu0,sigma0=np.matrix([[1.0,0.0],[0.0,1.0]]),v0=1.0,k0=1.0,d=2.0):\n",
      "    return (math.gamma(v_n(n)/2.0)/math.gamma(v0/2.0))*((npl.det(sigma0)**(v0/2.0))/(npl.det(sigma_n(x,n,mu0))**(v_n(n)/2.0)))*(k0/k_n(n))**(d/2.0)*1/(math.pi)**(n*d/2.0)"
     ],
     "language": "python",
     "metadata": {},
     "outputs": [],
     "prompt_number": 6
    },
    {
     "cell_type": "markdown",
     "metadata": {},
     "source": [
      "#### Then, Design a better data structure to store the data needed in each step using Class object  \n",
      "\n",
      "He I designed two class object named ini_Cluster and Cluster  \n",
      "For ini_Cluster, its used for store the raw data and calculate some initial values  \n",
      "For Cluster, its used in the loop to calculate merging probability and mergings\n",
      "\n",
      "* For ini_Cluster object, it contains following properties:\n",
      ">.i: Store label of datapoint\n",
      ".df: Store data point  \n",
      ".n: Store the number of data points of each nodes  \n",
      ".P: Store merging probability r_k for each data point  \n",
      ".d: Store hyperparameter d_k for each data point  \n",
      ".pi: Store weights for each data point  \n",
      "\n",
      "* For Cluster object, it contains following properties:\n",
      ">.i: Store the points labels in the cluster\n",
      ".cl: Store the left tree that construct the cluster  \n",
      ".cr: Store the right tree that construct the cluster  \n",
      ".df: Store all the data points in the cluster  \n",
      ".n: Store the number of data points in the cluster   \n",
      ".P: Store merging probability r_k for the cluster   \n",
      ".d: Store hyperparameter d_k for the cluster  \n",
      ".pi: Store weights for the cluster  \n",
      ".r: Store the merging probality of the cluster"
     ]
    },
    {
     "cell_type": "code",
     "collapsed": false,
     "input": [
      "class ini_Cluster(object):\n",
      "\n",
      "    def __init__(self, n, df, i):\n",
      "        self.i  = i\n",
      "        self.n  = n\n",
      "        self.df = df\n",
      "        self.P  = P_DH(self.df,self.n,mu0=self.df)\n",
      "        self.d  = alpha\n",
      "        self.pi = 1\n",
      "\n",
      "class Cluster(object):\n",
      "\n",
      "    def __init__(self, cl, cr):\n",
      "        self.i  = [cl.i, cr.i]\n",
      "        self.cl = cl\n",
      "        self.cr = cr\n",
      "        self.n  = self.cl.n + self.cr.n\n",
      "        self.df = np.concatenate((self.cl.df,self.cr.df),axis=0)\n",
      "        self.P  = P_DH(self.df,self.n,mu0=np.mean(self.df,axis=0))\n",
      "        self.d  = alpha*math.gamma(self.n) + self.cl.d*self.cr.d\n",
      "        self.pi = alpha*math.gamma(self.n)/self.d\n",
      "        self.r  = self.pi*self.P/(self.pi*self.P+(1-self.pi)*self.cl.P*self.cr.P)"
     ],
     "language": "python",
     "metadata": {},
     "outputs": [],
     "prompt_number": 7
    },
    {
     "cell_type": "markdown",
     "metadata": {},
     "source": [
      "#### Finally, we use optimized algorithm defined before to calculate the result of BHC\n",
      "\n",
      "The basic algorithm is the same as before\n",
      ">input data $D=(x^1,x^2,...,x^n)$, define model  $p(x|\\theta)$, prior  $p(\\theta|\\beta)$\n",
      "initialize number of clusters c = n  \n",
      "each cluster$D_i = (x^i)$ for $i=1,2,..n$\n",
      "While c>1  \n",
      "find pair $D_i, D_j$with highest probability of merge:    \n",
      "$r_k = \\dfrac{\\pi_k p(D_k|H_1^k)}{p(D_k|T_k)}$\n",
      "Then Merge $D_i, D_j -> D_k$  \n",
      "$c <- c-1$\n",
      "\n",
      "* I used vectorized the function to calculate $r_k$ faster,  \n",
      "* I used better data structure to decreased the number of loops needed\n",
      "* The 'class' structure can calculate its property inside itself, which make the algorithm even faster\n",
      "* What's more, I defined $levels, merges, rang$ variables to make the algorithm more faster, see the result below"
     ]
    },
    {
     "cell_type": "code",
     "collapsed": false,
     "input": [
      "# Define the whole function BHC, the input is data that need to be clustered\n",
      "def BHC(df):\n",
      "    \n",
      "    # Define level varible to store all clusters in each iteration of calculation\n",
      "\tlevel0 = {}\n",
      "\tn = np.shape(df)[0]\n",
      "    \n",
      "    # First, assign value to the ini_Cluster object\n",
      "    # which will be used in latter calculation\n",
      "\tfor x in range(np.shape(df)[0]):\n",
      "\t    level0[\"cluster{0}\".format(x)]=ini_Cluster(1,np.array([df[x,]]),x)\n",
      "    \n",
      "    # Store initial clusters in 'level0' of levels variable\n",
      "\tlevels = {}\n",
      "\tlevels['level0'] = level0.copy()\n",
      "    \n",
      "    # Defined merge varible to store the merge decision of each iteration of calculation\n",
      "\tmerges = {}\n",
      "    \n",
      "    # Define rang for easier and faster looping \n",
      "\trang = range(np.shape(df)[0])\n",
      "    \n",
      "    # Calculate r_k for each group of data\n",
      "\tfor round in range(1,np.shape(df)[0]):\n",
      "\t\tr = {}\n",
      "\t\tfor i in rang:\n",
      "\t\t\tif rang[rang.index(i)] != rang[-1]:\n",
      "\t\t\t\tstart_from = rang[rang.index(i)+1]\n",
      "\t\t\t\trangb = []\n",
      "\t\t\t\tfor val in rang[rang.index(start_from) if start_from  in rang else 1:]:\n",
      "\t\t\t\t\trangb.append(val)\n",
      "\t\t\t\t\trangb\n",
      "\t\t\t\tfor j in rangb:\n",
      "\t\t\t\t\tr[\"r%s,%s\" %(i,j)]=[Cluster(levels['level%s'%(round-1)]['cluster%s'%i],levels['level%s'%(round-1)]['cluster%s'%j]).r,'cluster%s'%i,'cluster%s'%j,i,j]\n",
      "\n",
      "        # Store the result of merges\n",
      "\t\tmerge = max(r.iteritems(), key=operator.itemgetter(1))[1][1:5]\n",
      "\t    \n",
      "        # Delete merged clusters\n",
      "\t\tlevels['level%s'%round] = levels['level%s'%(round-1)].copy()\n",
      "\t\tfor key in max(r.iteritems(), key=operator.itemgetter(1))[1][1:3]:\n",
      "\t\t        if key in levels['level%s'%round]: del levels['level%s'%round][key]\n",
      "        \n",
      "        # Add new cluster merged to new iteration of calculation\n",
      "\t\tlevels['level%s'%round]['cluster%s'%(round+30)] = Cluster(levels['level%s'%(round-1)][merge[0]],levels['level%s'%(round-1)][merge[1]])\n",
      "\n",
      "        # modify rang variable to avoid redundant calculation\n",
      "\t\trang.remove(merge[2]) \n",
      "\t\trang.remove(merge[3])\n",
      "\t\trang.append(round+2*n)\n",
      "        \n",
      "        # Store result of each merge\n",
      "\t\tmerges['round%s'%round] = [merge,'cluster%s'%(round+30)]\n",
      "\treturn {'merges':merges,'levels':levels}"
     ],
     "language": "python",
     "metadata": {},
     "outputs": [],
     "prompt_number": 8
    },
    {
     "cell_type": "markdown",
     "metadata": {},
     "source": [
      "##5.Application to a simulated question\n"
     ]
    },
    {
     "cell_type": "markdown",
     "metadata": {},
     "source": [
      "####First, simulate data for clustering"
     ]
    },
    {
     "cell_type": "code",
     "collapsed": false,
     "input": [
      "# Firstly, create Psedodata that could be used in clustering\n",
      "np.random.seed(111)\n",
      "xs = np.random.normal(-1,1,5)\n",
      "xs = np.append(xs,np.random.normal(7,1,5))\n",
      "xs = np.append(xs,np.random.normal(20,2,5))\n",
      "ys = np.random.normal(10,2,5)\n",
      "ys = np.append(ys,np.random.normal(2,1,5))\n",
      "ys = np.append(ys,np.random.normal(8,1,5))\n",
      "\n",
      "df = pd.DataFrame(xs,columns=['x'])\n",
      "df['y'] = pd.Series(ys)\n",
      "df=np.array(df)"
     ],
     "language": "python",
     "metadata": {},
     "outputs": [],
     "prompt_number": 9
    },
    {
     "cell_type": "markdown",
     "metadata": {},
     "source": [
      "####Then, draw the scatter plot of the dataset\n",
      "Obviously there are three data cluster, with 5 points in each"
     ]
    },
    {
     "cell_type": "code",
     "collapsed": false,
     "input": [
      "%precision 10\n",
      "\n",
      "labels = ['point{0}'.format(i) for i in range(np.shape(df)[0])]\n",
      "fig = plt.figure()\n",
      "ax = fig.add_subplot(111)\n",
      "plt.scatter(x=xs,y=ys)\n",
      "for label, x, y in zip(labels, xs, ys):                                                \n",
      "    ax.annotate(label , xy=(x,y), textcoords='offset points')"
     ],
     "language": "python",
     "metadata": {},
     "outputs": [
      {
       "output_type": "stream",
       "stream": "stderr",
       "text": [
        "/home/bitnami/anaconda/lib/python2.7/site-packages/matplotlib/text.py:1788: UserWarning: You have used the `textcoords` kwarg, but not the `xytext` kwarg.  This can lead to surprising results.\n",
        "  warnings.warn(\"You have used the `textcoords` kwarg, but not \"\n"
       ]
      },
      {
       "metadata": {},
       "output_type": "display_data",
       "png": "[encoded data removed]",
       "text": [
        "<matplotlib.figure.Figure at 0x7f9eb00e1750>"
       ]
      }
     ],
     "prompt_number": 10
    },
    {
     "cell_type": "markdown",
     "metadata": {},
     "source": [
      "####Third, I used BHC function to show the result"
     ]
    },
    {
     "cell_type": "code",
     "collapsed": false,
     "input": [
      "result=BHC(df)\n",
      "result['merges']"
     ],
     "language": "python",
     "metadata": {},
     "outputs": [
      {
       "metadata": {},
       "output_type": "pyout",
       "prompt_number": 11,
       "text": [
        "{'round1': [['cluster5', 'cluster8', 5, 8], 'cluster31'],\n",
        " 'round10': [['cluster11', 'cluster39', 11, 39], 'cluster40'],\n",
        " 'round11': [['cluster12', 'cluster40', 12, 40], 'cluster41'],\n",
        " 'round12': [['cluster14', 'cluster41', 14, 41], 'cluster42'],\n",
        " 'round13': [['cluster38', 'cluster42', 38, 42], 'cluster43'],\n",
        " 'round14': [['cluster34', 'cluster43', 34, 43], 'cluster44'],\n",
        " 'round2': [['cluster6', 'cluster31', 6, 31], 'cluster32'],\n",
        " 'round3': [['cluster7', 'cluster32', 7, 32], 'cluster33'],\n",
        " 'round4': [['cluster9', 'cluster33', 9, 33], 'cluster34'],\n",
        " 'round5': [['cluster0', 'cluster4', 0, 4], 'cluster35'],\n",
        " 'round6': [['cluster1', 'cluster35', 1, 35], 'cluster36'],\n",
        " 'round7': [['cluster2', 'cluster36', 2, 36], 'cluster37'],\n",
        " 'round8': [['cluster3', 'cluster37', 3, 37], 'cluster38'],\n",
        " 'round9': [['cluster10', 'cluster13', 10, 13], 'cluster39']}"
       ]
      }
     ],
     "prompt_number": 11
    },
    {
     "cell_type": "markdown",
     "metadata": {},
     "source": [
      "####Explaination of the merge result\n",
      "The result can be interperated from left column to right as follows:\n",
      ">*'round#':  Number of iteration, e.g. 'round1' means in first round calculation  \n",
      "* 'cluster#': Left cluster that will be merged in this iteration\n",
      "* 'cluster#': Right cluster that will be merged in this iteration\n",
      "* '#' : Left cluster number, can be used for drawing tree or make other inference\n",
      "* '#' : Right cluster number, can be used for drawing tree or make other inference\n",
      "* 'cluster#': Merged cluster\n",
      "\n",
      "So, for example, according to the result, we can see that \n",
      ">* In first round, point 5 and 8 will be merged to a new cluster 31\n",
      "* Next round, point 6 and cluster 31 (merged by 5 and 8) will be merged to cluster 32\n",
      "* ...\n",
      "* Finally, cluster 34 and cluster 43 will merged to cluster 44"
     ]
    },
    {
     "cell_type": "code",
     "collapsed": false,
     "input": [
      "result['levels']"
     ],
     "language": "python",
     "metadata": {},
     "outputs": [
      {
       "metadata": {},
       "output_type": "pyout",
       "prompt_number": 12,
       "text": [
        "{'level0': {'cluster0': <__main__.ini_Cluster at 0x7f9eddf2fe10>,\n",
        "  'cluster1': <__main__.ini_Cluster at 0x7f9eddf2fc50>,\n",
        "  'cluster10': <__main__.ini_Cluster at 0x7f9eddf4c090>,\n",
        "  'cluster11': <__main__.ini_Cluster at 0x7f9eddf2fb10>,\n",
        "  'cluster12': <__main__.ini_Cluster at 0x7f9eddf2ff50>,\n",
        "  'cluster13': <__main__.ini_Cluster at 0x7f9eddf4c350>,\n",
        "  'cluster14': <__main__.ini_Cluster at 0x7f9eddf4c510>,\n",
        "  'cluster2': <__main__.ini_Cluster at 0x7f9eddf2fd10>,\n",
        "  'cluster3': <__main__.ini_Cluster at 0x7f9eddf2fd50>,\n",
        "  'cluster4': <__main__.ini_Cluster at 0x7f9eddf4c5d0>,\n",
        "  'cluster5': <__main__.ini_Cluster at 0x7f9eddf4c610>,\n",
        "  'cluster6': <__main__.ini_Cluster at 0x7f9eddf4c650>,\n",
        "  'cluster7': <__main__.ini_Cluster at 0x7f9eddf4c190>,\n",
        "  'cluster8': <__main__.ini_Cluster at 0x7f9eddf4c450>,\n",
        "  'cluster9': <__main__.ini_Cluster at 0x7f9eddf4c2d0>},\n",
        " 'level1': {'cluster0': <__main__.ini_Cluster at 0x7f9eddf2fe10>,\n",
        "  'cluster1': <__main__.ini_Cluster at 0x7f9eddf2fc50>,\n",
        "  'cluster10': <__main__.ini_Cluster at 0x7f9eddf4c090>,\n",
        "  'cluster11': <__main__.ini_Cluster at 0x7f9eddf2fb10>,\n",
        "  'cluster12': <__main__.ini_Cluster at 0x7f9eddf2ff50>,\n",
        "  'cluster13': <__main__.ini_Cluster at 0x7f9eddf4c350>,\n",
        "  'cluster14': <__main__.ini_Cluster at 0x7f9eddf4c510>,\n",
        "  'cluster2': <__main__.ini_Cluster at 0x7f9eddf2fd10>,\n",
        "  'cluster3': <__main__.ini_Cluster at 0x7f9eddf2fd50>,\n",
        "  'cluster31': <__main__.Cluster at 0x7f9eddf4c410>,\n",
        "  'cluster4': <__main__.ini_Cluster at 0x7f9eddf4c5d0>,\n",
        "  'cluster6': <__main__.ini_Cluster at 0x7f9eddf4c650>,\n",
        "  'cluster7': <__main__.ini_Cluster at 0x7f9eddf4c190>,\n",
        "  'cluster9': <__main__.ini_Cluster at 0x7f9eddf4c2d0>},\n",
        " 'level10': {'cluster12': <__main__.ini_Cluster at 0x7f9eddf2ff50>,\n",
        "  'cluster14': <__main__.ini_Cluster at 0x7f9eddf4c510>,\n",
        "  'cluster34': <__main__.Cluster at 0x7f9eddf4c390>,\n",
        "  'cluster38': <__main__.Cluster at 0x7f9eddf4c550>,\n",
        "  'cluster40': <__main__.Cluster at 0x7f9eafd89f50>},\n",
        " 'level11': {'cluster14': <__main__.ini_Cluster at 0x7f9eddf4c510>,\n",
        "  'cluster34': <__main__.Cluster at 0x7f9eddf4c390>,\n",
        "  'cluster38': <__main__.Cluster at 0x7f9eddf4c550>,\n",
        "  'cluster41': <__main__.Cluster at 0x7f9eafd89fd0>},\n",
        " 'level12': {'cluster34': <__main__.Cluster at 0x7f9eddf4c390>,\n",
        "  'cluster38': <__main__.Cluster at 0x7f9eddf4c550>,\n",
        "  'cluster42': <__main__.Cluster at 0x7f9eafd89dd0>},\n",
        " 'level13': {'cluster34': <__main__.Cluster at 0x7f9eddf4c390>,\n",
        "  'cluster43': <__main__.Cluster at 0x7f9eafd89e10>},\n",
        " 'level14': {'cluster44': <__main__.Cluster at 0x7f9eafd898d0>},\n",
        " 'level2': {'cluster0': <__main__.ini_Cluster at 0x7f9eddf2fe10>,\n",
        "  'cluster1': <__main__.ini_Cluster at 0x7f9eddf2fc50>,\n",
        "  'cluster10': <__main__.ini_Cluster at 0x7f9eddf4c090>,\n",
        "  'cluster11': <__main__.ini_Cluster at 0x7f9eddf2fb10>,\n",
        "  'cluster12': <__main__.ini_Cluster at 0x7f9eddf2ff50>,\n",
        "  'cluster13': <__main__.ini_Cluster at 0x7f9eddf4c350>,\n",
        "  'cluster14': <__main__.ini_Cluster at 0x7f9eddf4c510>,\n",
        "  'cluster2': <__main__.ini_Cluster at 0x7f9eddf2fd10>,\n",
        "  'cluster3': <__main__.ini_Cluster at 0x7f9eddf2fd50>,\n",
        "  'cluster32': <__main__.Cluster at 0x7f9eddf4c590>,\n",
        "  'cluster4': <__main__.ini_Cluster at 0x7f9eddf4c5d0>,\n",
        "  'cluster7': <__main__.ini_Cluster at 0x7f9eddf4c190>,\n",
        "  'cluster9': <__main__.ini_Cluster at 0x7f9eddf4c2d0>},\n",
        " 'level3': {'cluster0': <__main__.ini_Cluster at 0x7f9eddf2fe10>,\n",
        "  'cluster1': <__main__.ini_Cluster at 0x7f9eddf2fc50>,\n",
        "  'cluster10': <__main__.ini_Cluster at 0x7f9eddf4c090>,\n",
        "  'cluster11': <__main__.ini_Cluster at 0x7f9eddf2fb10>,\n",
        "  'cluster12': <__main__.ini_Cluster at 0x7f9eddf2ff50>,\n",
        "  'cluster13': <__main__.ini_Cluster at 0x7f9eddf4c350>,\n",
        "  'cluster14': <__main__.ini_Cluster at 0x7f9eddf4c510>,\n",
        "  'cluster2': <__main__.ini_Cluster at 0x7f9eddf2fd10>,\n",
        "  'cluster3': <__main__.ini_Cluster at 0x7f9eddf2fd50>,\n",
        "  'cluster33': <__main__.Cluster at 0x7f9eddf4c3d0>,\n",
        "  'cluster4': <__main__.ini_Cluster at 0x7f9eddf4c5d0>,\n",
        "  'cluster9': <__main__.ini_Cluster at 0x7f9eddf4c2d0>},\n",
        " 'level4': {'cluster0': <__main__.ini_Cluster at 0x7f9eddf2fe10>,\n",
        "  'cluster1': <__main__.ini_Cluster at 0x7f9eddf2fc50>,\n",
        "  'cluster10': <__main__.ini_Cluster at 0x7f9eddf4c090>,\n",
        "  'cluster11': <__main__.ini_Cluster at 0x7f9eddf2fb10>,\n",
        "  'cluster12': <__main__.ini_Cluster at 0x7f9eddf2ff50>,\n",
        "  'cluster13': <__main__.ini_Cluster at 0x7f9eddf4c350>,\n",
        "  'cluster14': <__main__.ini_Cluster at 0x7f9eddf4c510>,\n",
        "  'cluster2': <__main__.ini_Cluster at 0x7f9eddf2fd10>,\n",
        "  'cluster3': <__main__.ini_Cluster at 0x7f9eddf2fd50>,\n",
        "  'cluster34': <__main__.Cluster at 0x7f9eddf4c390>,\n",
        "  'cluster4': <__main__.ini_Cluster at 0x7f9eddf4c5d0>},\n",
        " 'level5': {'cluster1': <__main__.ini_Cluster at 0x7f9eddf2fc50>,\n",
        "  'cluster10': <__main__.ini_Cluster at 0x7f9eddf4c090>,\n",
        "  'cluster11': <__main__.ini_Cluster at 0x7f9eddf2fb10>,\n",
        "  'cluster12': <__main__.ini_Cluster at 0x7f9eddf2ff50>,\n",
        "  'cluster13': <__main__.ini_Cluster at 0x7f9eddf4c350>,\n",
        "  'cluster14': <__main__.ini_Cluster at 0x7f9eddf4c510>,\n",
        "  'cluster2': <__main__.ini_Cluster at 0x7f9eddf2fd10>,\n",
        "  'cluster3': <__main__.ini_Cluster at 0x7f9eddf2fd50>,\n",
        "  'cluster34': <__main__.Cluster at 0x7f9eddf4c390>,\n",
        "  'cluster35': <__main__.Cluster at 0x7f9eddf4c110>},\n",
        " 'level6': {'cluster10': <__main__.ini_Cluster at 0x7f9eddf4c090>,\n",
        "  'cluster11': <__main__.ini_Cluster at 0x7f9eddf2fb10>,\n",
        "  'cluster12': <__main__.ini_Cluster at 0x7f9eddf2ff50>,\n",
        "  'cluster13': <__main__.ini_Cluster at 0x7f9eddf4c350>,\n",
        "  'cluster14': <__main__.ini_Cluster at 0x7f9eddf4c510>,\n",
        "  'cluster2': <__main__.ini_Cluster at 0x7f9eddf2fd10>,\n",
        "  'cluster3': <__main__.ini_Cluster at 0x7f9eddf2fd50>,\n",
        "  'cluster34': <__main__.Cluster at 0x7f9eddf4c390>,\n",
        "  'cluster36': <__main__.Cluster at 0x7f9eddf4c210>},\n",
        " 'level7': {'cluster10': <__main__.ini_Cluster at 0x7f9eddf4c090>,\n",
        "  'cluster11': <__main__.ini_Cluster at 0x7f9eddf2fb10>,\n",
        "  'cluster12': <__main__.ini_Cluster at 0x7f9eddf2ff50>,\n",
        "  'cluster13': <__main__.ini_Cluster at 0x7f9eddf4c350>,\n",
        "  'cluster14': <__main__.ini_Cluster at 0x7f9eddf4c510>,\n",
        "  'cluster3': <__main__.ini_Cluster at 0x7f9eddf2fd50>,\n",
        "  'cluster34': <__main__.Cluster at 0x7f9eddf4c390>,\n",
        "  'cluster37': <__main__.Cluster at 0x7f9eddf4c4d0>},\n",
        " 'level8': {'cluster10': <__main__.ini_Cluster at 0x7f9eddf4c090>,\n",
        "  'cluster11': <__main__.ini_Cluster at 0x7f9eddf2fb10>,\n",
        "  'cluster12': <__main__.ini_Cluster at 0x7f9eddf2ff50>,\n",
        "  'cluster13': <__main__.ini_Cluster at 0x7f9eddf4c350>,\n",
        "  'cluster14': <__main__.ini_Cluster at 0x7f9eddf4c510>,\n",
        "  'cluster34': <__main__.Cluster at 0x7f9eddf4c390>,\n",
        "  'cluster38': <__main__.Cluster at 0x7f9eddf4c550>},\n",
        " 'level9': {'cluster11': <__main__.ini_Cluster at 0x7f9eddf2fb10>,\n",
        "  'cluster12': <__main__.ini_Cluster at 0x7f9eddf2ff50>,\n",
        "  'cluster14': <__main__.ini_Cluster at 0x7f9eddf4c510>,\n",
        "  'cluster34': <__main__.Cluster at 0x7f9eddf4c390>,\n",
        "  'cluster38': <__main__.Cluster at 0x7f9eddf4c550>,\n",
        "  'cluster39': <__main__.Cluster at 0x7f9eddf4c150>}}"
       ]
      }
     ],
     "prompt_number": 12
    },
    {
     "cell_type": "markdown",
     "metadata": {},
     "source": [
      "#### Explanation for the levels result \n",
      "As we can seem, the result dictionary is nested. Interpretation are as follows:\n",
      ">* 'level#': Stored all cluster that exist in this round calculation\n",
      "* 'cluster#': Store all data needed for calculation in this cluster\n",
      "\n",
      "For example, in 'level 9', there still exist cluster 12, 14, 34 ,38, 39, and we can extract any data we want from the cluster  \n"
     ]
    },
    {
     "cell_type": "markdown",
     "metadata": {},
     "source": [
      "If we want to know what is the structure of some cluster, we can use following code  \n",
      "From the structure we could know that the cluster is:\n",
      ">* First merge 5,8\n",
      "* Then merge 6\n",
      "* Then merge 7\n",
      "* Finally merge 9 and get cluster 34"
     ]
    },
    {
     "cell_type": "code",
     "collapsed": false,
     "input": [
      "result['levels']['level9']['cluster34'].i"
     ],
     "language": "python",
     "metadata": {},
     "outputs": [
      {
       "metadata": {},
       "output_type": "pyout",
       "prompt_number": 13,
       "text": [
        "[9, [7, [6, [5, 8]]]]"
       ]
      }
     ],
     "prompt_number": 13
    },
    {
     "cell_type": "markdown",
     "metadata": {},
     "source": [
      "#### Advantage compare to traditional hierachical clustering method\n",
      "All the result above are quite the same as traditional method can do, However, as we mentioned before, we can find some advantage of Bayesian hierachical clustering.  \n",
      ">a). bayesian model can give probability of test point belonging to any existing cluster  \n",
      "b). merging cluster based on model rather than ad-hoc matrics  \n",
      "c). use hypothesis test to give recommendation of merges  \n",
      "d). can be intepreted as approximation of dirichlet process  "
     ]
    },
    {
     "cell_type": "markdown",
     "metadata": {},
     "source": [
      "For example, if we want to know the marginal probability of some cluster, we can use following code"
     ]
    },
    {
     "cell_type": "code",
     "collapsed": false,
     "input": [
      "result['levels']['level9']['cluster34'].P"
     ],
     "language": "python",
     "metadata": {},
     "outputs": [
      {
       "metadata": {},
       "output_type": "pyout",
       "prompt_number": 14,
       "text": [
        "0.0000039459"
       ]
      }
     ],
     "prompt_number": 14
    },
    {
     "cell_type": "markdown",
     "metadata": {},
     "source": [
      "Also, we can make comparation between clusters  \n",
      ">the result 6.73 means that the marginal likelihood in clustering 34 is much higher than that in cluster 38, which means the data points in cluster 34 are more close to each other"
     ]
    },
    {
     "cell_type": "code",
     "collapsed": false,
     "input": [
      "result['levels']['level9']['cluster34'].P/result['levels']['level9']['cluster38'].P"
     ],
     "language": "python",
     "metadata": {},
     "outputs": [
      {
       "metadata": {},
       "output_type": "pyout",
       "prompt_number": 15,
       "text": [
        "6.7305337761"
       ]
      }
     ],
     "prompt_number": 15
    },
    {
     "cell_type": "markdown",
     "metadata": {},
     "source": [
      "What's more, if we want to see the merging probability $r_k$, we can use following code  \n",
      ">For example, we want to see the merging probability of cluster 34, which is 0.795"
     ]
    },
    {
     "cell_type": "code",
     "collapsed": false,
     "input": [
      "result['levels']['level5']['cluster34'].r"
     ],
     "language": "python",
     "metadata": {},
     "outputs": [
      {
       "metadata": {},
       "output_type": "pyout",
       "prompt_number": 16,
       "text": [
        "0.7959621225"
       ]
      }
     ],
     "prompt_number": 16
    },
    {
     "cell_type": "markdown",
     "metadata": {},
     "source": [
      "Finally, if we want to know how many clusters are good, we can manually set a merging probability, i.e 0.7, if r_k less than 0.7, we should consider the cluster shouldn't be merged.   \n",
      ">For example, at the final step, we merged all points to one cluster 43, and the merging probability is quite low. "
     ]
    },
    {
     "cell_type": "code",
     "collapsed": false,
     "input": [
      "result['levels']['level13']['cluster43'].r"
     ],
     "language": "python",
     "metadata": {},
     "outputs": [
      {
       "metadata": {},
       "output_type": "pyout",
       "prompt_number": 17,
       "text": [
        "0.5178512699"
       ]
      }
     ],
     "prompt_number": 17
    },
    {
     "cell_type": "markdown",
     "metadata": {},
     "source": [
      "#### Conclusion\n",
      "To sum up, apart from the basic function of traditional clustering method, BHC can provide more information including:  \n",
      ">a) Marginal likelihood P  \n",
      "b) Merging probability r  \n",
      "c) Probability of each point in each cluster\n",
      "\n",
      "And using those information, we can make more appropriate clustering decision accordingly."
     ]
    },
    {
     "cell_type": "markdown",
     "metadata": {},
     "source": [
      "##6. Tests for code accuracy\n",
      "Following are the test file, I write the test basically to make sure the marginal likehood and merging probability is right  \n",
      "I compared the function result to the result calculated by hand, and see if there is any difference between them "
     ]
    },
    {
     "cell_type": "code",
     "collapsed": false,
     "input": [
      "%%file test_clustering.py\n",
      "import os\n",
      "import sys\n",
      "import glob\n",
      "import numpy as np\n",
      "import random\n",
      "import itertools\n",
      "import math\n",
      "import scipy.stats as sps\n",
      "import numpy.linalg as npl\n",
      "import operator\n",
      "import pytest\n",
      "\n",
      "# content of test_sample.py\n",
      "# Function used to calculate values in P(D|H_1)\n",
      "def k_n(n,k0=1.0):\n",
      "    return k0+n\n",
      "\n",
      "def v_n(n,v0=1.0):\n",
      "    return v0+n\n",
      "\n",
      "def S(x,n):\n",
      "    return np.std(x,axis=0)*n\n",
      "\n",
      "def sigma_n(x,n,mu0,sigma0=np.matrix([[1.0,0.0],[.0,1.0]]),v0=1.0,k0=1.0):\n",
      "    return sigma0 + S(x,n) + (k0*n/(k0+n))*(np.dot(np.mean(x,axis=0)-mu0,np.transpose(np.mean(x,axis=0)-mu0)))\n",
      "\n",
      "def P_DH(x,n,mu0,sigma0=np.matrix([[1.0,0.0],[0.0,1.0]]),v0=1.0,k0=1.0,d=2.0):\n",
      "    return (math.gamma(v_n(n)/2.0)/math.gamma(v0/2.0))*((npl.det(sigma0)**(v0/2.0))/(npl.det(sigma_n(x,n,mu0))**(v_n(n)/2.0)))*(k0/k_n(n))**(d/2.0)*1/(math.pi)**(n*d/2.0)\n",
      "\n",
      "# Test functions values\n",
      "def test_k_n():\n",
      "    assert k_n(5) == 6\n",
      "    \n",
      "def test_v_n():\n",
      "    assert v_n(3) == 4\n",
      "    \n",
      "def test_S():\n",
      "    test_data = np.array([[[1,0],[2,1]],[[2,2],[1,1]]])\n",
      "    result_value = np.array([[1,2],[1,0]])\n",
      "    assert npl.norm(S(test_data,2) - result_value)<= 0.001\n",
      "\n",
      "def test_PDH():\n",
      "    test_x = np.array([[[2,3],[2,1]],[[2,2],[1,1]]])\n",
      "    test_mu = np.array([1,1])\n",
      "    result_value = 0.006363984588752723270399513922 \n",
      "    assert abs(P_DH(test_x,2,test_mu) - result_value) < 0.0000001"
     ],
     "language": "python",
     "metadata": {},
     "outputs": [
      {
       "output_type": "stream",
       "stream": "stdout",
       "text": [
        "Overwriting test_clustering.py\n"
       ]
      }
     ],
     "prompt_number": 18
    },
    {
     "cell_type": "code",
     "collapsed": false,
     "input": [
      "!py.test"
     ],
     "language": "python",
     "metadata": {},
     "outputs": [
      {
       "output_type": "stream",
       "stream": "stdout",
       "text": [
        "\u001b[1m============================= test session starts ==============================\u001b[0m\r\n",
        "platform linux2 -- Python 2.7.9 -- py-1.4.25 -- pytest-2.6.3\r\n"
       ]
      },
      {
       "output_type": "stream",
       "stream": "stdout",
       "text": [
        "\u001b[1m\r",
        "collecting 0 items\u001b[0m"
       ]
      },
      {
       "output_type": "stream",
       "stream": "stdout",
       "text": [
        "\u001b[1m\r",
        "collecting 4 items\u001b[0m\u001b[1m\r",
        "collected 4 items \r\n",
        "\u001b[0m\r\n",
        "test_clustering.py ....\r\n",
        "\r\n",
        "\u001b[32m\u001b[1m=========================== 4 passed in 0.30 seconds ===========================\u001b[0m\r\n"
       ]
      }
     ],
     "prompt_number": 19
    }
   ],
   "metadata": {}
  }
 ]
}