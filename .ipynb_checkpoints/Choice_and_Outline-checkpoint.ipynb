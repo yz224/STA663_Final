{
 "metadata": {
  "name": "",
  "signature": "sha256:f2ba7f2eff2f6e1731f7b55ec83da3ce85841001f4da37cda7f21ee90e95e401"
 },
 "nbformat": 3,
 "nbformat_minor": 0,
 "worksheets": [
  {
   "cells": [
    {
     "cell_type": "markdown",
     "metadata": {},
     "source": [
      "#Paper Choice: Bayesian Hierachical Clustering"
     ]
    },
    {
     "cell_type": "markdown",
     "metadata": {},
     "source": [
      "##Outline:\n",
      "###1. background:  \n",
      "Hierarchical clustering is one of the most frequently used methods in unsupervised learning.  \n",
      "But the traditional hierarchical clustering method provides no guide to choosing the \u201ccorrect\u201d number of clusters or the level at which to prune the tree.  \n",
      "Also, The traditional algorithm does not define a probabilistic model of the data, so it is hard to ask how \u201cgood\u201d a clustering is.  \n",
      "So, here we can use Bayesian Hierachical Clustering to overcome these limitations. \n",
      "\n",
      "###2. Reason of choice:\n",
      "\n",
      "a). bayesian model can give probability of test point belonging to any existing cluster  \n",
      "b). merging cluster based on model rather than ad-hoc matrics  \n",
      "c). use hypothesis test to give recommendation of merges  \n",
      "d). can be intepreted as approximation of dirichlet process  \n",
      "\n",
      "###3. Method\n",
      "use marginal likelihood to decide which cluster to merge and at same time avoid overfitting\n",
      "\n",
      "###4. algorithm\n",
      "wait to be specified later"
     ]
    },
    {
     "cell_type": "code",
     "collapsed": false,
     "input": [],
     "language": "python",
     "metadata": {},
     "outputs": []
    }
   ],
   "metadata": {}
  }
 ]
}