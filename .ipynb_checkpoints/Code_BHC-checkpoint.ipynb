{
 "metadata": {
  "name": "",
  "signature": "sha256:ed84e511a33006800f33f262960d604e9bef854a1ac0468e9eb47717a9a9425c"
 },
 "nbformat": 3,
 "nbformat_minor": 0,
 "worksheets": [
  {
   "cells": [
    {
     "cell_type": "markdown",
     "metadata": {},
     "source": [
      "#BHC CODE"
     ]
    },
    {
     "cell_type": "code",
     "collapsed": false,
     "input": [
      "'''First we read and clean the data'''\n",
      "# Import train.csv, store as csv_train\n",
      "import csv\n",
      "train = open('train.csv')\n",
      "csv_train = csv.reader(train)\n",
      "\n",
      "# Read gender, age, class from csv_train \n",
      "constant = []\n",
      "gender = []\n",
      "age = []\n",
      "tclass = []\n",
      "survived = []\n",
      "for row in csv_train:\n",
      "    constant.append(1)\n",
      "    survived.append(row[1])\n",
      "    age.append(row[5])\n",
      "    tclass.append(row[2])    \n",
      "    # Replaced male, female with 1,0 respectively\n",
      "    if row[4]=='male':\n",
      "        gender.append(1)\n",
      "    else:\n",
      "        gender.append(0)\n",
      "\n",
      "# Combine constant, gender, age, tclass as pandas dataframe\n",
      "X = pd.DataFrame(zip(constant,gender,age,tclass,survived))\n",
      "X = X.drop(X.index[:1])\n",
      "X.columns = ['constant','gender','age','tclass','survived']\n",
      "\n",
      "# Deleted rows with empty value of age \n",
      "X = X[X.age!='']\n",
      "\n",
      "# Transform catagorical data of class to dummy variables\n",
      "for elem in X['tclass'].unique():\n",
      "    X[str(elem)] = X['tclass'] == elem\n",
      "X = X.drop(['tclass','3'],axis=1)\n",
      "X.columns = ['constant','gender','age','survived','class1','class2']\n",
      "X.class1 = X.class1.apply(lambda x: 1 if x==True else 0)\n",
      "X.class2 = X.class2.apply(lambda x: 1 if x==True else 0)\n",
      "\n",
      "# normalize age\n",
      "X.survived = X.survived.convert_objects(convert_numeric=True)\n",
      "X.age = X.age.convert_objects(convert_numeric=True)\n",
      "X.age = (X.age - X.mean()['age'])/ (X.max()['age']-X.min()['age'])\n",
      "\n",
      "# Rearange column order\n",
      "cols = ['constant', 'gender', 'age', 'class1', 'class2', 'survived']\n",
      "X = X[cols]\n",
      "df=X\n",
      "X.head()"
     ],
     "language": "python",
     "metadata": {},
     "outputs": []
    },
    {
     "cell_type": "code",
     "collapsed": false,
     "input": [
      "'''In order to calculate the gradient, we construct the gradient function as blow'''\n",
      "# Write log likelihood function and its gradient w.r.t beta(b0,b1,b2,b3)\n",
      "from sympy.abc import *\n",
      "\n",
      "# First define x and beta, x0 represents constant 1\n",
      "# x1, x2, x3, x4 reprensent gender, age, class1, class2 respectively\n",
      "x0,x1,x2,x3,x4 = sp.symbols('x0:5')\n",
      "b0,b1,b2,b3,b4 = sp.symbols('b0:5')\n",
      "x = sp.Matrix([x0,x1,x2,x3,x4])\n",
      "b = sp.Matrix([[b0],[b1],[b2],[b3],[b4]])\n",
      "\n",
      "# define p: p(y=1|x) , l:log likelihood function\n",
      "# and grad_l: gradient of l w.r.t b0:4\n",
      "p = 1.0/(1.0+exp(-x.dot(b)))\n",
      "l = y*sp.log(p)+(1.0-y)*sp.log(1-p)\n",
      "grad_l_b0 = sp.simplify(l.diff(b0))\n",
      "grad_l_b1 = sp.simplify(l.diff(b1))\n",
      "grad_l_b2 = sp.simplify(l.diff(b2))\n",
      "grad_l_b3 = sp.simplify(l.diff(b3))\n",
      "grad_l_b4 = sp.simplify(l.diff(b4))\n",
      "\n",
      "# Transform grad_l to lambda function with input beta and data\n",
      "gradl0_value = sp.lambdify((b0,b1,b2,b3,b4,x0,x1,x2,x3,x4,y),grad_l_b0)\n",
      "gradl1_value = sp.lambdify((b0,b1,b2,b3,b4,x0,x1,x2,x3,x4,y),grad_l_b1)\n",
      "gradl2_value = sp.lambdify((b0,b1,b2,b3,b4,x0,x1,x2,x3,x4,y),grad_l_b2)\n",
      "gradl3_value = sp.lambdify((b0,b1,b2,b3,b4,x0,x1,x2,x3,x4,y),grad_l_b3)\n",
      "gradl4_value = sp.lambdify((b0,b1,b2,b3,b4,x0,x1,x2,x3,x4,y),grad_l_b4)\n",
      "\n",
      "print 'For example, gradient w.r.t b0 is:','\\n'\n",
      "grad_l_b0"
     ],
     "language": "python",
     "metadata": {},
     "outputs": []
    },
    {
     "cell_type": "markdown",
     "metadata": {},
     "source": [
      "#OPETIMIZATION STRATEGY\n",
      "###1. Using parallel computation\n",
      "###2. Using pandas to deal with data\n"
     ]
    },
    {
     "cell_type": "code",
     "collapsed": false,
     "input": [],
     "language": "python",
     "metadata": {},
     "outputs": []
    }
   ],
   "metadata": {}
  }
 ]
}