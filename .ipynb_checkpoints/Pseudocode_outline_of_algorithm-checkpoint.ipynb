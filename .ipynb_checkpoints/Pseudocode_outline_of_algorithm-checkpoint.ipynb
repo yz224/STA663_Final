{
 "metadata": {
  "name": "",
  "signature": "sha256:955b9769c0dd865007ba7c9a54546f7d8f5c530c6dea15dafa98c91a586785e5"
 },
 "nbformat": 3,
 "nbformat_minor": 0,
 "worksheets": [
  {
   "cells": [
    {
     "cell_type": "markdown",
     "metadata": {},
     "source": [
      "#Outline Of Bayesian Hierachical Clustering\n",
      "Basic idea: initial each data point in its own clustering and iteratively merge pairs of clusters. Main difference from agglomerative algorithm is using hypothesis testing to make the merging decision"
     ]
    },
    {
     "cell_type": "markdown",
     "metadata": {},
     "source": [
      "#Psedocode:\n",
      "\n",
      "###step1. \n",
      "input data $D=(x^1,x^2,...,x^n)$, define model  $p(x|\\theta)$, prior  $p(\\theta|\\beta)$\n",
      "\n",
      "###step2.\n",
      "initialize number of clusters c = n  \n",
      "each cluster$D_i = (x^i)$ for $i=1,2,..n$\n",
      "\n",
      "###step3.\n",
      "While c>1  \n",
      "find pair $D_i, D_j$with highest probability of merge:  \n",
      "  \n",
      "$r_k = \\dfrac{\\pi_k p(D_k|H_1^k)}{p(D_k|T_k)}$\n",
      "  \n",
      "Then Merge $D_i, D_j -> D_k$  \n",
      "$c <- c-1$\n",
      "\n",
      "end\n"
     ]
    },
    {
     "cell_type": "code",
     "collapsed": false,
     "input": [],
     "language": "python",
     "metadata": {},
     "outputs": []
    }
   ],
   "metadata": {}
  }
 ]
}