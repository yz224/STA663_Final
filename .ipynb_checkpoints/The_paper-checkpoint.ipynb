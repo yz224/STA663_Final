{
 "metadata": {
  "name": "",
  "signature": "sha256:8d94648e1bb081e25db662dd870e86964cc61a949d644faeaa8bc6476961dd47"
 },
 "nbformat": 3,
 "nbformat_minor": 0,
 "worksheets": [
  {
   "cells": [
    {
     "cell_type": "code",
     "collapsed": false,
     "input": [
      "ls"
     ],
     "language": "python",
     "metadata": {},
     "outputs": [
      {
       "output_type": "stream",
       "stream": "stdout",
       "text": [
        "Choice_and_Outline.ipynb  ibp-nips05.pdf   README.md\r\n",
        "command.ipynb             p297-heller.pdf  Untitled0.ipynb\r\n"
       ]
      }
     ],
     "prompt_number": 4
    },
    {
     "cell_type": "code",
     "collapsed": false,
     "input": [
      "class PDF(object):\n",
      "  def __init__(self, pdf, size=(200,200)):\n",
      "    self.pdf = pdf\n",
      "    self.size = size\n",
      "\n",
      "  def _repr_html_(self):\n",
      "    return '<iframe src={0} width={1[0]} height={1[1]}></iframe>'.format(self.pdf, self.size)\n",
      "\n",
      "  def _repr_latex_(self):\n",
      "    return r'\\includegraphics[width=1.0\\textwidth]{{{0}}}'.format(self.pdf)"
     ],
     "language": "python",
     "metadata": {},
     "outputs": [],
     "prompt_number": 2
    },
    {
     "cell_type": "code",
     "collapsed": false,
     "input": [
      "PDF('p297-heller.pdf',size=(1000,1000))"
     ],
     "language": "python",
     "metadata": {},
     "outputs": [
      {
       "html": [
        "<iframe src=p297-heller.pdf width=1000 height=1000></iframe>"
       ],
       "latex": [
        "\\includegraphics[width=1.0\\textwidth]{p297-heller.pdf}"
       ],
       "metadata": {},
       "output_type": "pyout",
       "prompt_number": 3,
       "text": [
        "<__main__.PDF at 0x7f381d179f10>"
       ]
      }
     ],
     "prompt_number": 3
    },
    {
     "cell_type": "code",
     "collapsed": false,
     "input": [],
     "language": "python",
     "metadata": {},
     "outputs": []
    }
   ],
   "metadata": {}
  }
 ]
}