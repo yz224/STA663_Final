{
 "metadata": {
  "name": "",
  "signature": "sha256:d7874232b3620578157d23fdc3759a3121bbd6818a1b2d58e25914fa74a544c7"
 },
 "nbformat": 3,
 "nbformat_minor": 0,
 "worksheets": [
  {
   "cells": [
    {
     "cell_type": "markdown",
     "metadata": {},
     "source": [
      "#Paper Choice: Bayesian Hierachical Clustering\n",
      "###Yikun Zhou (yz224)"
     ]
    },
    {
     "cell_type": "markdown",
     "metadata": {},
     "source": [
      "##1. background:  \n",
      "Hierarchical clustering is one of the most frequently used methods in unsupervised learning.But the traditional hierarchical clustering method provides no guide to choosing the \u201ccorrect\u201d number of clusters or the level at which to prune the tree. Also, The traditional algorithm does not define a probabilistic model of the data, so it is hard to ask how \u201cgood\u201d a clustering is. So, here we can use Bayesian Hierachical Clustering to overcome these limitations. \n",
      "\n",
      "###Problem that BHC can solve:\n",
      "\n",
      "a). bayesian model can give probability of test point belonging to any existing cluster  \n",
      "b). merging cluster based on model rather than ad-hoc matrics  \n",
      "c). use hypothesis test to give recommendation of merges  \n",
      "d). can be intepreted as approximation of dirichlet process  \n"
     ]
    },
    {
     "cell_type": "markdown",
     "metadata": {},
     "source": [
      "##2.Outline Of Bayesian Hierachical Clustering\n",
      "Basic idea: initial each data point in its own clustering and iteratively merge pairs of clusters. Main difference from agglomerative algorithm is using hypothesis testing to make the merging decision"
     ]
    },
    {
     "cell_type": "markdown",
     "metadata": {},
     "source": [
      "###Psedocode:\n",
      "\n",
      "####step1. \n",
      "input data $D=(x^1,x^2,...,x^n)$, define model  $p(x|\\theta)$, prior  $p(\\theta|\\beta)$\n",
      "\n",
      "####step2.\n",
      "initialize number of clusters c = n  \n",
      "each cluster$D_i = (x^i)$ for $i=1,2,..n$\n",
      "\n",
      "####step3.\n",
      "While c>1  \n",
      "find pair $D_i, D_j$with highest probability of merge:  \n",
      "  \n",
      "$r_k = \\dfrac{\\pi_k p(D_k|H_1^k)}{p(D_k|T_k)}$\n",
      "  \n",
      "Then Merge $D_i, D_j -> D_k$  \n",
      "$c <- c-1$\n",
      "\n",
      "end\n"
     ]
    },
    {
     "cell_type": "markdown",
     "metadata": {},
     "source": [
      "##3. Initial Naive Code"
     ]
    },
    {
     "cell_type": "code",
     "collapsed": false,
     "input": [
      "import os\n",
      "import sys\n",
      "import glob\n",
      "import matplotlib.pyplot as plt\n",
      "import numpy as np\n",
      "import pandas as pd\n",
      "%matplotlib inline\n",
      "%precision 30\n",
      "plt.style.use('ggplot')\n",
      "import random\n",
      "import itertools\n",
      "import math\n",
      "import scipy.stats as sps\n",
      "import numpy.linalg as npl\n",
      "import operator\n",
      "import pytest"
     ],
     "language": "python",
     "metadata": {},
     "outputs": [],
     "prompt_number": 1
    },
    {
     "cell_type": "markdown",
     "metadata": {},
     "source": [
      "####First, we need to set up some initial value for each points:  \n",
      "$$P(D_i)\\sim N(\\mu_0,\\sigma_0^2)$$"
     ]
    },
    {
     "cell_type": "code",
     "collapsed": false,
     "input": [
      "# Initial values\n",
      "mu0 = 0\n",
      "sigma0 = 1\n",
      "v0 = 1\n",
      "k0 = 1"
     ],
     "language": "python",
     "metadata": {},
     "outputs": [],
     "prompt_number": 2
    },
    {
     "cell_type": "markdown",
     "metadata": {},
     "source": [
      "####Second, we write the function needed to calculate\n",
      "$$r_k=\\dfrac{\\pi_k P(D_k|H_1^k)}{\\pi_k P(D_k|H_1^k)+(1-\\pi_k) P(D_i|T_i)P(D_j|T_j)}$$"
     ]
    },
    {
     "cell_type": "code",
     "collapsed": false,
     "input": [
      "# Function used to calculate values in P(D|H_1)\n",
      "def P_DH(x,n,k0=1.0,v0=1.0,sigma0=1.0,mu0=0.0):\n",
      "    return (math.gamma((v0+n)/2)/math.gamma(v0/2))*np.sqrt(k0/(k0+n))*(((v0*sigma0)**(v0/2))/(((v0+n)*((1/(v0+n))*(v0*sigma0**2+sum((x-mu0)**2))**((v0+n)/2)))))*(1/math.pi**(n/2))"
     ],
     "language": "python",
     "metadata": {},
     "outputs": [],
     "prompt_number": 3
    },
    {
     "cell_type": "markdown",
     "metadata": {},
     "source": [
      "#### Third, Define some data structure to store the data needed in each step, including:  \n",
      "\n",
      ">Round: Store all the data needed to calculate r_k in each iteration,  type: Dictionary  \n",
      "DF: Store all the data points in each nodes, type: Dictionary  \n",
      "N: Store the number of data points of each nodes, type: Dictionary  \n",
      "D: Store hyperparameter d_k for each nodes, type: Dictionary\n",
      "PI: Store weights for each nodes, type: Dictionary  \n",
      "R: Store merging probability r_k for each possible group of Nodes, type: Dictionary"
     ]
    },
    {
     "cell_type": "code",
     "collapsed": false,
     "input": [
      "# Initial Structure\n",
      "Rounds = {}\n",
      "Round = {}\n",
      "DF = {}\n",
      "N = {}\n",
      "D = {}\n",
      "R = {}\n",
      "x = np.array([1,1])\n",
      "\n",
      "# Basic Structure with data x\n",
      "for x in range(np.shape(x)[0]):\n",
      "    Round={'DF':DF, 'N':N, 'D':D, 'R':R}\n",
      "    Rounds['Round%s'%x] = Round"
     ],
     "language": "python",
     "metadata": {},
     "outputs": [],
     "prompt_number": 6
    },
    {
     "cell_type": "markdown",
     "metadata": {},
     "source": [
      "#### Finally, we use algorithm defined before to calculate the result of BHC\n",
      "input data $D=(x^1,x^2,...,x^n)$, define model  $p(x|\\theta)$, prior  $p(\\theta|\\beta)$\n",
      "\n",
      "initialize number of clusters c = n  \n",
      "each cluster$D_i = (x^i)$ for $i=1,2,..n$\n",
      "\n",
      "While c>1  \n",
      "find pair $D_i, D_j$with highest probability of merge:  \n",
      "  \n",
      "$r_k = \\dfrac{\\pi_k p(D_k|H_1^k)}{p(D_k|T_k)}$\n",
      "  \n",
      "Then Merge $D_i, D_j -> D_k$  \n",
      "$c <- c-1$"
     ]
    },
    {
     "cell_type": "code",
     "collapsed": false,
     "input": [
      "# Define Initial BHC functions\n",
      "\n",
      "def Ini_BHC(df):\n",
      "\talpha0 = 0.5\n",
      "\tpi0 = 1\n",
      "\trang = range(np.shape(df)[0])\n",
      "\tmerge = {}\n",
      "\n",
      "\t# Set up initial values according to the data input and calculate priors\n",
      "\tfor i in range(np.shape(df)[0]):\n",
      "\t\tRounds['Round%s'%1]['DF%s'%i] = df[i,]\n",
      "\t\tRounds['Round%s'%1]['N%s'%i] = len(Rounds['Round%s'%1]['DF%s'%i])\n",
      "\t\tRounds['Round%s'%1]['D%s'%i] = alpha\n",
      "\t\tRounds['Round%s'%1]['R%s'%i] = P_DH(Rounds['Round%s'%1]['DF%s'%i],Rounds['Round%s'%1]['N%s'%i])\n",
      "    \n",
      "    # loop through all the data and store the merge situation\n",
      "\tfor r in range(1,np.shape(df)[0]):\n",
      "\t\tfor i in rang:\n",
      "\t\t\tstart_from = rang[rang.index(i)+1]\n",
      "\t\t\trangb = []\n",
      "\t\t\tfor val in rang[rang.index(start_from) if start_from  in rang else 1:]:\n",
      "\t\t\t\trangb.append(val)\n",
      "\t\t\t\trangb\n",
      "\t\t\tfor j in rangb:\n",
      "\t\t\t\tRounds['Round%s,%s'%(i,j)]['DF%s,%s'%(i,j)] = np.array([df[i,],df[j,]])\n",
      "\t\t\t\tRounds['Round%s,%s'%(i,j)]['N%s,%s'%(i,j)] = len(Rounds['Round%s,%s'%(i,j)]['DF%s,%s'%(i,j)])\n",
      "\t\t\t\tRounds['Round%s,%s'%(i,j)]['D%s,%s'%(i,j)] = alpha\n",
      "\t\t\t\tRounds['Round%s,%s'%(i,j)]['R%s,%s'%(i,j)] = P_DH(Rounds['Round%s,%s'%(i,j)]['DF%s,%s'%(i,j)],Rounds['Round%s,%s'%(i,j)]['N%s,%s'%(i,j)])\n",
      "\n",
      "    # Calculate merge probability using the data given above\n",
      "\tfor round in range(1,np.shape(df)[0]):\n",
      "\t\tr = {}\n",
      "\t    \n",
      "\t\tfor i in rang:\n",
      "\t\t\tif rang[rang.index(i)] != rang[-1]:\n",
      "\t\t\t\tstart_from = rang[rang.index(i)+1]\n",
      "\t\t\t\trangb = []\n",
      "\t\t\t\tfor val in rang[rang.index(start_from) if start_from  in rang else 1:]:\n",
      "\t\t\t\t\trangb.append(val)\n",
      "\t\t\t\t\trangb\n",
      "\t\t\t\tfor j in rangb:\n",
      "\t\t\t\t\tr[\"r%s,%s\" %(i,j)]=[Cluster(levels['level%s'%(round-1)]['cluster%s'%i],levels['level%s'%(round-1)]['cluster%s'%j]).r,'cluster%s'%i,'cluster%s'%j,i,j]\n",
      "        \n",
      "        # Store merge result\n",
      "\t\tmerge = max(r.iteritems(), key=operator.itemgetter(1))[1][1:5]\n",
      "\t    \n",
      "\t\tlevels['level%s'%round] = levels['level%s'%(round-1)].copy()\n",
      "\t\tfor key in max(r.iteritems(), key=operator.itemgetter(1))[1][1:3]:\n",
      "\t\t        if key in levels['level%s'%round]: del levels['level%s'%round][key]\n",
      "\n",
      "\t\tlevels['level%s'%round]['cluster%s'%(round+30)] = Cluster(levels['level%s'%(round-1)][merge[0]],levels['level%s'%(round-1)][merge[1]])\n",
      "        \n",
      "        # Re calculate the loop range\n",
      "\t\trang.remove(merge[2]) \n",
      "\t\trang.remove(merge[3])\n",
      "\t\trang.append(round+30)\n",
      "\n",
      "\t\tmerges['round%s'%round] = [merge,'cluster%s'%(round+30)]\n",
      "    \n",
      "\treturn merges"
     ],
     "language": "python",
     "metadata": {},
     "outputs": [],
     "prompt_number": 7
    },
    {
     "cell_type": "markdown",
     "metadata": {},
     "source": [
      "#### Problem: The initial code above is OK and fast for 1 dimentional data. However, if I need to deal with data exceed 1 dimention, the speed will be very slow\n",
      "\n",
      "Possible Reasons:  \n",
      "* due to the function used to calculate $$r_k=\\dfrac{\\pi_k P(D_k|H_1^k)}{\\pi_k P(D_k|H_1^k)+(1-\\pi_k) P(D_i|T_i)P(D_j|T_j)}$$ is not vectorized.  \n",
      "* The data Structure needs to be optimized to simplify the calculatoin.   \n",
      "So next, I will profile and wirte a vectorized code which could better deal with high dimensional data."
     ]
    },
    {
     "cell_type": "markdown",
     "metadata": {},
     "source": [
      "##4. Vectorized Code: Optimize the code in both calculation speed and data structure\n"
     ]
    },
    {
     "cell_type": "markdown",
     "metadata": {},
     "source": [
      "####First, I designed a new function that can utilize vectorized data structure and calculate marginal likelihood faster\n",
      "The marginal likelihood is:\n",
      "$$P(D_k) = \\dfrac{1}{\\pi^{nd/2}} \\dfrac{\\Gamma_d(v_n/2)}{\\Gamma_d(v_0/2)}\\dfrac{\\Sigma_0^{v_0/2}}{\\Sigma_n^{v_n/2}}(\\dfrac{k_0}{k_n})^{d/2}$$  \n",
      "and we can use marginal likelihood to iteratively calculate the merging probability:\n",
      "$$r_k=\\dfrac{\\pi_k P(D_k|H_1^k)}{\\pi_k P(D_k|H_1^k)+(1-\\pi_k) P(D_i|T_i)P(D_j|T_j)}$$"
     ]
    },
    {
     "cell_type": "code",
     "collapsed": false,
     "input": [
      "# Function used to calculate values in P(D|H_1)\n",
      "def k_n(n,k0=1.0):\n",
      "    return k0+n\n",
      "\n",
      "def v_n(n,v0=1.0):\n",
      "    return v0+n\n",
      "\n",
      "def S(x,n):\n",
      "    return np.std(x,axis=0)*n\n",
      "\n",
      "def sigma_n(x,n,mu0,sigma0=np.matrix([[1.0,0.0],[.0,1.0]]),v0=1.0,k0=1.0):\n",
      "    return sigma0 + S(x,n) + (k0*n/(k0+n))*(np.dot(np.mean(x,axis=0)-mu0,np.transpose(np.mean(x,axis=0)-mu0)))\n",
      "\n",
      "# Function used to calculate value of P(D|H_1)\n",
      "def P_DH(x,n,mu0,sigma0=np.matrix([[1.0,0.0],[0.0,1.0]]),v0=1.0,k0=1.0,d=2.0):\n",
      "    return (math.gamma(v_n(n)/2.0)/math.gamma(v0/2.0))*((npl.det(sigma0)**(v0/2.0))/(npl.det(sigma_n(x,n,mu0))**(v_n(n)/2.0)))*(k0/k_n(n))**(d/2.0)*1/(math.pi)**(n*d/2.0)"
     ],
     "language": "python",
     "metadata": {},
     "outputs": [],
     "prompt_number": 14
    },
    {
     "cell_type": "markdown",
     "metadata": {},
     "source": [
      "#### Then, Design a better data structure to store the data needed in each step using Class object  \n",
      "\n",
      "He I designed two class object named ini_Cluster and Cluster  \n",
      "For ini_Cluster, its used for store the raw data and calculate some initial values  \n",
      "For Cluster, its used in the loop to calculate merging probability and mergings\n",
      "\n",
      "* For ini_Cluster object, it contains following properties:\n",
      ">.df: Store data point  \n",
      ".n: Store the number of data points of each nodes  \n",
      ".P: Store merging probability r_k for each data point  \n",
      ".d: Store hyperparameter d_k for each data point  \n",
      ".pi: Store weights for each data point  \n",
      "\n",
      "* For Cluster object, it contains following properties:\n",
      ">.cl: Store the left tree that construct the cluster  \n",
      ".cr: Store the right tree that construct the cluster  \n",
      ".df: Store all the data points in the cluster  \n",
      ".n: Store the number of data points in the cluster   \n",
      ".P: Store merging probability r_k for the cluster   \n",
      ".d: Store hyperparameter d_k for the cluster  \n",
      ".pi: Store weights for the cluster  \n",
      ".r: Store the merging probality of the cluster"
     ]
    },
    {
     "cell_type": "code",
     "collapsed": false,
     "input": [
      "class ini_Cluster(object):\n",
      "\n",
      "    def __init__(self, n, df):\n",
      "        self.n  = n\n",
      "        self.df = df\n",
      "        self.P  = P_DH(self.df,self.n,mu0=self.df)\n",
      "        self.d  = alpha\n",
      "        self.pi = 1\n",
      "\n",
      "class Cluster(object):\n",
      "\n",
      "    def __init__(self, cl, cr):\n",
      "        self.cl = cl\n",
      "        self.cr = cr\n",
      "        self.n  = self.cl.n + self.cr.n\n",
      "        self.df = np.concatenate((self.cl.df,self.cr.df),axis=0)\n",
      "        self.P  = P_DH(self.df,self.n,mu0=np.mean(self.df,axis=0))\n",
      "        self.d  = alpha*math.gamma(self.n) + self.cl.d*self.cr.d\n",
      "        self.pi = alpha*math.gamma(self.n)/self.d\n",
      "        self.r  = self.pi*self.P/(self.pi*self.P+(1-self.pi)*self.cl.P*self.cr.P)"
     ],
     "language": "python",
     "metadata": {},
     "outputs": [],
     "prompt_number": 13
    },
    {
     "cell_type": "markdown",
     "metadata": {},
     "source": [
      "#### Finally, we use optimized algorithm defined before to calculate the result of BHC\n",
      "\n",
      "The basic algorithm is the same as before\n",
      ">input data $D=(x^1,x^2,...,x^n)$, define model  $p(x|\\theta)$, prior  $p(\\theta|\\beta)$\n",
      "initialize number of clusters c = n  \n",
      "each cluster$D_i = (x^i)$ for $i=1,2,..n$\n",
      "While c>1  \n",
      "find pair $D_i, D_j$with highest probability of merge:    \n",
      "$r_k = \\dfrac{\\pi_k p(D_k|H_1^k)}{p(D_k|T_k)}$\n",
      "Then Merge $D_i, D_j -> D_k$  \n",
      "$c <- c-1$\n",
      "\n",
      "* I used vectorized the function to calculate $r_k$ faster,  \n",
      "* I used better data structure to decreased the number of loops needed\n",
      "* The 'class' structure can calculate its property inside itself, which make the algorithm even faster\n",
      "* What's more, I defined $levels, merges, rang$ variables to make the algorithm more faster, see the result below"
     ]
    },
    {
     "cell_type": "code",
     "collapsed": false,
     "input": [
      "# Define the whole function BHC, the input is data that need to be clustered\n",
      "def BHC(df):\n",
      "    \n",
      "    # Define level varible to store all clusters in each iteration of calculation\n",
      "\tlevel0 = {}\n",
      "    \n",
      "    # First, assign value to the ini_Cluster object\n",
      "    # which will be used in latter calculation\n",
      "\tfor x in range(np.shape(df)[0]):\n",
      "\t    level0[\"cluster{0}\".format(x)]=ini_Cluster(1,np.array([df[x,]]))\n",
      "    \n",
      "    # Store initial clusters in 'level0' of levels variable\n",
      "\tlevels = {}\n",
      "\tlevels['level0'] = level0.copy()\n",
      "    \n",
      "    # Defined merge varible to store the merge decision of each iteration of calculation\n",
      "\tmerges = {}\n",
      "    \n",
      "    # Define rang for easier and faster looping \n",
      "\trang = range(np.shape(df)[0])\n",
      "    \n",
      "    # Calculate r_k for each group of data\n",
      "\tfor round in range(1,np.shape(df)[0]):\n",
      "\t\tr = {}\n",
      "\t\tfor i in rang:\n",
      "\t\t\tif rang[rang.index(i)] != rang[-1]:\n",
      "\t\t\t\tstart_from = rang[rang.index(i)+1]\n",
      "\t\t\t\trangb = []\n",
      "\t\t\t\tfor val in rang[rang.index(start_from) if start_from  in rang else 1:]:\n",
      "\t\t\t\t\trangb.append(val)\n",
      "\t\t\t\t\trangb\n",
      "\t\t\t\tfor j in rangb:\n",
      "\t\t\t\t\tr[\"r%s,%s\" %(i,j)]=[Cluster(levels['level%s'%(round-1)]['cluster%s'%i],levels['level%s'%(round-1)]['cluster%s'%j]).r,'cluster%s'%i,'cluster%s'%j,i,j]\n",
      "\n",
      "        # Store the result of merges\n",
      "\t\tmerge = max(r.iteritems(), key=operator.itemgetter(1))[1][1:5]\n",
      "\t    \n",
      "        # Delete merged clusters\n",
      "\t\tlevels['level%s'%round] = levels['level%s'%(round-1)].copy()\n",
      "\t\tfor key in max(r.iteritems(), key=operator.itemgetter(1))[1][1:3]:\n",
      "\t\t        if key in levels['level%s'%round]: del levels['level%s'%round][key]\n",
      "        \n",
      "        # Add new cluster merged to new iteration of calculation\n",
      "\t\tlevels['level%s'%round]['cluster%s'%(round+30)] = Cluster(levels['level%s'%(round-1)][merge[0]],levels['level%s'%(round-1)][merge[1]])\n",
      "\n",
      "        # modify rang variable to avoid redundant calculation\n",
      "\t\trang.remove(merge[2]) \n",
      "\t\trang.remove(merge[3])\n",
      "\t\trang.append(round+30)\n",
      "        \n",
      "        # Store result of each merge\n",
      "\t\tmerges['round%s'%round] = [merge,'cluster%s'%(round+30)]\n",
      "\treturn merges"
     ],
     "language": "python",
     "metadata": {},
     "outputs": [],
     "prompt_number": 8
    },
    {
     "cell_type": "markdown",
     "metadata": {},
     "source": [
      "##5.Application to a simulated question\n",
      "Next I will apply the code to a simulated dataset and see if the result will be show as expected"
     ]
    },
    {
     "cell_type": "code",
     "collapsed": false,
     "input": [
      "# Firstly, create Psedodata that could be used in clustering\n",
      "xs = np.random.normal(-1,1,5)\n",
      "xs = np.append(xs,np.random.normal(7,1,5))\n",
      "xs = np.append(xs,np.random.normal(20,2,5))\n",
      "ys = np.random.normal(10,2,5)\n",
      "ys = np.append(ys,np.random.normal(2,1,5))\n",
      "ys = np.append(ys,np.random.normal(8,1,5))\n",
      "\n",
      "df = pd.DataFrame(xs,columns=['x'])\n",
      "df['y'] = pd.Series(ys)\n",
      "df=np.array(df)\n",
      "plt.scatter(x=xs,y=ys)"
     ],
     "language": "python",
     "metadata": {},
     "outputs": [
      {
       "metadata": {},
       "output_type": "pyout",
       "prompt_number": 10,
       "text": [
        "<matplotlib.collections.PathCollection at 0x7f3b525c06d0>"
       ]
      },
      {
       "metadata": {},
       "output_type": "display_data",
       "png": "[encoded data removed]",
       "text": [
        "<matplotlib.figure.Figure at 0x7f3b5268d6d0>"
       ]
      }
     ],
     "prompt_number": 10
    },
    {
     "cell_type": "code",
     "collapsed": false,
     "input": [
      "BHC(df)"
     ],
     "language": "python",
     "metadata": {},
     "outputs": [
      {
       "metadata": {},
       "output_type": "pyout",
       "prompt_number": 9,
       "text": [
        "{'round1': [['cluster6', 'cluster8', 6, 8], 'cluster31'],\n",
        " 'round10': [['cluster1', 'cluster2', 1, 2], 'cluster40'],\n",
        " 'round11': [['cluster33', 'cluster40', 33, 40], 'cluster41'],\n",
        " 'round12': [['cluster3', 'cluster41', 3, 41], 'cluster42'],\n",
        " 'round13': [['cluster39', 'cluster42', 39, 42], 'cluster43'],\n",
        " 'round14': [['cluster35', 'cluster43', 35, 43], 'cluster44'],\n",
        " 'round2': [['cluster5', 'cluster9', 5, 9], 'cluster32'],\n",
        " 'round3': [['cluster0', 'cluster4', 0, 4], 'cluster33'],\n",
        " 'round4': [['cluster31', 'cluster32', 31, 32], 'cluster34'],\n",
        " 'round5': [['cluster7', 'cluster34', 7, 34], 'cluster35'],\n",
        " 'round6': [['cluster10', 'cluster13', 10, 13], 'cluster36'],\n",
        " 'round7': [['cluster11', 'cluster36', 11, 36], 'cluster37'],\n",
        " 'round8': [['cluster12', 'cluster37', 12, 37], 'cluster38'],\n",
        " 'round9': [['cluster14', 'cluster38', 14, 38], 'cluster39']}"
       ]
      }
     ],
     "prompt_number": 9
    },
    {
     "cell_type": "code",
     "collapsed": false,
     "input": [
      "!del p297-heller.pdf"
     ],
     "language": "python",
     "metadata": {},
     "outputs": [
      {
       "output_type": "stream",
       "stream": "stdout",
       "text": [
        "/bin/sh: 1: del: not found\r\n"
       ]
      }
     ],
     "prompt_number": 43
    },
    {
     "cell_type": "code",
     "collapsed": false,
     "input": [
      "ls"
     ],
     "language": "python",
     "metadata": {},
     "outputs": [
      {
       "output_type": "stream",
       "stream": "stdout",
       "text": [
        "1_Descri_and_Algo.ipynb  Command.ipynb    README.md\r\n",
        "2_BHC_code.ipynb         Makefile.ipynb   test_clustering.py\r\n",
        "3_tests.ipynb            p297-heller.pdf  The_paper.ipynb\r\n",
        "4_Optimization.ipynb     \u001b[0m\u001b[01;34m__pycache__\u001b[0m/     tree.ipynb\r\n"
       ]
      }
     ],
     "prompt_number": 44
    },
    {
     "cell_type": "markdown",
     "metadata": {},
     "source": [
      "ls"
     ]
    },
    {
     "cell_type": "markdown",
     "metadata": {},
     "source": [
      "##6. Tests for code accuracy"
     ]
    },
    {
     "cell_type": "code",
     "collapsed": false,
     "input": [
      "%%file test_clustering.py\n",
      "import os\n",
      "import sys\n",
      "import glob\n",
      "import numpy as np\n",
      "import random\n",
      "import itertools\n",
      "import math\n",
      "import scipy.stats as sps\n",
      "import numpy.linalg as npl\n",
      "import operator\n",
      "import pytest\n",
      "\n",
      "# content of test_sample.py\n",
      "# Function used to calculate values in P(D|H_1)\n",
      "def k_n(n,k0=1.0):\n",
      "    return k0+n\n",
      "\n",
      "def v_n(n,v0=1.0):\n",
      "    return v0+n\n",
      "\n",
      "def S(x,n):\n",
      "    return np.std(x,axis=0)*n\n",
      "\n",
      "def sigma_n(x,n,mu0,sigma0=np.matrix([[1.0,0.0],[.0,1.0]]),v0=1.0,k0=1.0):\n",
      "    return sigma0 + S(x,n) + (k0*n/(k0+n))*(np.dot(np.mean(x,axis=0)-mu0,np.transpose(np.mean(x,axis=0)-mu0)))\n",
      "\n",
      "def P_DH(x,n,mu0,sigma0=np.matrix([[1.0,0.0],[0.0,1.0]]),v0=1.0,k0=1.0,d=2.0):\n",
      "    return (math.gamma(v_n(n)/2.0)/math.gamma(v0/2.0))*((npl.det(sigma0)**(v0/2.0))/(npl.det(sigma_n(x,n,mu0))**(v_n(n)/2.0)))*(k0/k_n(n))**(d/2.0)*1/(math.pi)**(n*d/2.0)\n",
      "\n",
      "# Test functions values\n",
      "def test_k_n():\n",
      "    assert k_n(5) == 6\n",
      "    \n",
      "def test_v_n():\n",
      "    assert v_n(3) == 4\n",
      "    \n",
      "def test_S():\n",
      "    test_data = np.array([[[1,0],[2,1]],[[2,2],[1,1]]])\n",
      "    result_value = np.array([[1,2],[1,0]])\n",
      "    assert npl.norm(S(test_data,2) - result_value)<= 0.001\n",
      "\n",
      "def test_PDH():\n",
      "    test_x = np.array([[[2,3],[2,1]],[[2,2],[1,1]]])\n",
      "    test_mu = np.array([1,1])\n",
      "    result_value = 0.006363984588752723270399513922 \n",
      "    assert abs(P_DH(test_x,2,test_mu) - result_value) < 0.0000001"
     ],
     "language": "python",
     "metadata": {},
     "outputs": [
      {
       "output_type": "stream",
       "stream": "stdout",
       "text": [
        "Overwriting test_clustering.py\n"
       ]
      }
     ],
     "prompt_number": 38
    }
   ],
   "metadata": {}
  }
 ]
}