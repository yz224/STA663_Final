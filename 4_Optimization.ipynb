{
 "metadata": {
  "name": "",
  "signature": "sha256:b21b802ab6f21f3b2043365ac2236278eb5aea60a2d310b28ecd465043d069a7"
 },
 "nbformat": 3,
 "nbformat_minor": 0,
 "worksheets": [
  {
   "cells": [
    {
     "cell_type": "code",
     "collapsed": false,
     "input": [],
     "language": "python",
     "metadata": {},
     "outputs": []
    }
   ],
   "metadata": {}
  }
 ]
}