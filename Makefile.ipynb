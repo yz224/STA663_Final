{
 "metadata": {
  "name": "",
  "signature": "sha256:f119faa06af69967be43fe9068a5523bc6d94fbf0953b5e7ab2389f6fb086fb6"
 },
 "nbformat": 3,
 "nbformat_minor": 0,
 "worksheets": [
  {
   "cells": [
    {
     "cell_type": "code",
     "collapsed": false,
     "input": [
      "# Makefile for Yikun Zhou BHC Make \n"
     ],
     "language": "python",
     "metadata": {},
     "outputs": []
    }
   ],
   "metadata": {}
  }
 ]
}