{
 "metadata": {
  "name": "",
  "signature": "sha256:89d6a32e10a29b169ab0a19c36597b4921c81985b266be77229a9b138f2a6d93"
 },
 "nbformat": 3,
 "nbformat_minor": 0,
 "worksheets": [
  {
   "cells": [
    {
     "cell_type": "markdown",
     "metadata": {},
     "source": [
      "#Outline Of Bayesian Hierachical Clustering\n",
      "Basic idea: initial each data point in its own clustering and iteratively merge pairs of clusters. Main difference from agglomerative algorithm is using hypothesis testing to make the merging decision\n",
      "\n",
      "### Step 1.\n"
     ]
    }
   ],
   "metadata": {}
  }
 ]
}