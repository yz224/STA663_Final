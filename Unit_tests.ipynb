{
 "metadata": {
  "name": "",
  "signature": "sha256:f04f6b1391a90f4d88de8d6c7d157a88f825933b91112725bfcda12735b6079e"
 },
 "nbformat": 3,
 "nbformat_minor": 0,
 "worksheets": [
  {
   "cells": [
    {
     "cell_type": "code",
     "collapsed": false,
     "input": [
      "ls"
     ],
     "language": "python",
     "metadata": {},
     "outputs": [
      {
       "output_type": "stream",
       "stream": "stdout",
       "text": [
        "Choice_and_Outline.ipynb               README.md\r\n",
        "Command.ipynb                          The_paper.ipynb\r\n",
        "p297-heller.pdf                        Unit_tests.ipynb\r\n",
        "Pseudocode_outline_of_algorithm.ipynb\r\n"
       ]
      }
     ],
     "prompt_number": 4
    },
    {
     "cell_type": "code",
     "collapsed": false,
     "input": [
      "%%file test_clustering.py\n",
      "\n",
      "import numpy as np\n",
      "from numpy.testing import assert_almost_equal\n",
      "from clustering_code import bayesian_clustering\n",
      "\n",
      "def test_num_hierachy():\n",
      "    test_data = np.array([1,2,3,4,5,5,6])\n",
      "    assert bayesian_clustering(test_data)[0] == 2\n",
      "\n",
      "def test_num_clusters():\n",
      "    test_data = np.array([1,2,3,4,5,5,6])\n",
      "    assert bayesian_clustering(test_data)[1] == 3\n",
      "\n",
      "def test_clustering_dist():\n",
      "    test_data = np.array([1,2,3,4,5,5,6])\n",
      "    assert np.norm(bayesian_clustering(test_data)[3]) >= 5"
     ],
     "language": "python",
     "metadata": {},
     "outputs": [
      {
       "output_type": "stream",
       "stream": "stdout",
       "text": [
        "Writing distance.py\n"
       ]
      }
     ],
     "prompt_number": 1
    },
    {
     "cell_type": "code",
     "collapsed": false,
     "input": [
      "! py.test"
     ],
     "language": "python",
     "metadata": {},
     "outputs": [],
     "prompt_number": 3
    },
    {
     "cell_type": "code",
     "collapsed": false,
     "input": [],
     "language": "python",
     "metadata": {},
     "outputs": []
    }
   ],
   "metadata": {}
  }
 ]
}