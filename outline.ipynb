{
 "metadata": {
  "name": "",
  "signature": "sha256:380aeb0fbed20b93501a5cc22199603421c31f21b02c98aa515d78e248391d62"
 },
 "nbformat": 3,
 "nbformat_minor": 0,
 "worksheets": [
  {
   "cells": [
    {
     "cell_type": "markdown",
     "metadata": {},
     "source": [
      "#Paper Choice: Nested Chinese Restaurant Process"
     ]
    },
    {
     "cell_type": "markdown",
     "metadata": {},
     "source": []
    }
   ],
   "metadata": {}
  }
 ]
}